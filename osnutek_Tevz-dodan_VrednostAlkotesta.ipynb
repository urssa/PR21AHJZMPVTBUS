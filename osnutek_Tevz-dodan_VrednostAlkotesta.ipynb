{
 "cells": [
  {
   "cell_type": "code",
   "execution_count": 3,
   "id": "75f70f25",
   "metadata": {},
   "outputs": [],
   "source": [
    "import pandas as pd\n",
    "import matplotlib.pyplot as plt\n",
    "import numpy as np"
   ]
  },
  {
   "cell_type": "code",
   "execution_count": 4,
   "id": "817ead08",
   "metadata": {},
   "outputs": [
    {
     "data": {
      "text/html": [
       "<div>\n",
       "<style scoped>\n",
       "    .dataframe tbody tr th:only-of-type {\n",
       "        vertical-align: middle;\n",
       "    }\n",
       "\n",
       "    .dataframe tbody tr th {\n",
       "        vertical-align: top;\n",
       "    }\n",
       "\n",
       "    .dataframe thead th {\n",
       "        text-align: right;\n",
       "    }\n",
       "</style>\n",
       "<table border=\"1\" class=\"dataframe\">\n",
       "  <thead>\n",
       "    <tr style=\"text-align: right;\">\n",
       "      <th></th>\n",
       "      <th>ZaporednaStevilkaPN</th>\n",
       "      <th>KlasifikacijaNesrece</th>\n",
       "      <th>UpravnaEnotaStoritve</th>\n",
       "      <th>DatumPN</th>\n",
       "      <th>UraPN</th>\n",
       "      <th>VNaselju</th>\n",
       "      <th>Lokacija</th>\n",
       "      <th>VrstaCesteNaselja</th>\n",
       "      <th>SifraCesteNaselja</th>\n",
       "      <th>TekstCesteNaselja</th>\n",
       "      <th>...</th>\n",
       "      <th>Spol</th>\n",
       "      <th>UEStalnegaPrebivalisca</th>\n",
       "      <th>Drzavljanstvo</th>\n",
       "      <th>PoskodbaUdelezenca</th>\n",
       "      <th>VrstaUdelezenca</th>\n",
       "      <th>UporabaVarnostnegaPasu</th>\n",
       "      <th>VozniskiStazVLetih</th>\n",
       "      <th>VozniskiStazVMesecih</th>\n",
       "      <th>VrednostAlkotesta</th>\n",
       "      <th>VrednostStrokovnegaPregleda</th>\n",
       "    </tr>\n",
       "  </thead>\n",
       "  <tbody>\n",
       "    <tr>\n",
       "      <th>0</th>\n",
       "      <td>1</td>\n",
       "      <td>Z LAŽJO TELESNO POŠKODBO</td>\n",
       "      <td>LJUBLJANA</td>\n",
       "      <td>08.01.2019</td>\n",
       "      <td>13.15</td>\n",
       "      <td>DA</td>\n",
       "      <td>NASELJE</td>\n",
       "      <td>NASELJE Z ULIÈNIM SISTEMOM</td>\n",
       "      <td>25001</td>\n",
       "      <td>LJUBLJANA</td>\n",
       "      <td>...</td>\n",
       "      <td>MOŠKI</td>\n",
       "      <td>LJUBLJANA</td>\n",
       "      <td>SLOVENIJA</td>\n",
       "      <td>BREZ POŠKODBE</td>\n",
       "      <td>VOZNIK OSEBNEGA AVTOMOBILA</td>\n",
       "      <td>DA</td>\n",
       "      <td>0</td>\n",
       "      <td>0</td>\n",
       "      <td>,18</td>\n",
       "      <td>,00</td>\n",
       "    </tr>\n",
       "    <tr>\n",
       "      <th>1</th>\n",
       "      <td>1</td>\n",
       "      <td>Z LAŽJO TELESNO POŠKODBO</td>\n",
       "      <td>LJUBLJANA</td>\n",
       "      <td>08.01.2019</td>\n",
       "      <td>13.15</td>\n",
       "      <td>DA</td>\n",
       "      <td>NASELJE</td>\n",
       "      <td>NASELJE Z ULIÈNIM SISTEMOM</td>\n",
       "      <td>25001</td>\n",
       "      <td>LJUBLJANA</td>\n",
       "      <td>...</td>\n",
       "      <td>ŽENSKI</td>\n",
       "      <td>POSTOJNA</td>\n",
       "      <td>SLOVENIJA</td>\n",
       "      <td>LAŽJA TELESNA POŠKODBA</td>\n",
       "      <td>VOZNIK OSEBNEGA AVTOMOBILA</td>\n",
       "      <td>DA</td>\n",
       "      <td>0</td>\n",
       "      <td>0</td>\n",
       "      <td>,00</td>\n",
       "      <td>,00</td>\n",
       "    </tr>\n",
       "    <tr>\n",
       "      <th>2</th>\n",
       "      <td>2</td>\n",
       "      <td>Z LAŽJO TELESNO POŠKODBO</td>\n",
       "      <td>LJUBLJANA</td>\n",
       "      <td>02.01.2019</td>\n",
       "      <td>5.55</td>\n",
       "      <td>DA</td>\n",
       "      <td>NASELJE</td>\n",
       "      <td>NASELJE BREZ ULIÈNEGA SISTEMA</td>\n",
       "      <td>27062</td>\n",
       "      <td>ZGORNJE PIRNIÈE</td>\n",
       "      <td>...</td>\n",
       "      <td>ŽENSKI</td>\n",
       "      <td>LJUBLJANA</td>\n",
       "      <td>SLOVENIJA</td>\n",
       "      <td>BREZ POŠKODBE</td>\n",
       "      <td>VOZNIK OSEBNEGA AVTOMOBILA</td>\n",
       "      <td>DA</td>\n",
       "      <td>29</td>\n",
       "      <td>7</td>\n",
       "      <td>,20</td>\n",
       "      <td>,00</td>\n",
       "    </tr>\n",
       "    <tr>\n",
       "      <th>3</th>\n",
       "      <td>2</td>\n",
       "      <td>Z LAŽJO TELESNO POŠKODBO</td>\n",
       "      <td>LJUBLJANA</td>\n",
       "      <td>02.01.2019</td>\n",
       "      <td>5.55</td>\n",
       "      <td>DA</td>\n",
       "      <td>NASELJE</td>\n",
       "      <td>NASELJE BREZ ULIÈNEGA SISTEMA</td>\n",
       "      <td>27062</td>\n",
       "      <td>ZGORNJE PIRNIÈE</td>\n",
       "      <td>...</td>\n",
       "      <td>MOŠKI</td>\n",
       "      <td>LJUBLJANA</td>\n",
       "      <td>SLOVENIJA</td>\n",
       "      <td>LAŽJA TELESNA POŠKODBA</td>\n",
       "      <td>VOZNIK OSEBNEGA AVTOMOBILA</td>\n",
       "      <td>DA</td>\n",
       "      <td>58</td>\n",
       "      <td>10</td>\n",
       "      <td>,00</td>\n",
       "      <td>,00</td>\n",
       "    </tr>\n",
       "    <tr>\n",
       "      <th>4</th>\n",
       "      <td>3</td>\n",
       "      <td>Z MATERIALNO ŠKODO</td>\n",
       "      <td>ŠMARJE PRI JELŠAH</td>\n",
       "      <td>01.01.2019</td>\n",
       "      <td>4.00</td>\n",
       "      <td>DA</td>\n",
       "      <td>NASELJE</td>\n",
       "      <td>NASELJE BREZ ULIÈNEGA SISTEMA</td>\n",
       "      <td>54153</td>\n",
       "      <td>TOPOLE-ROGAŠKA SLATINA</td>\n",
       "      <td>...</td>\n",
       "      <td>MOŠKI</td>\n",
       "      <td>ŠMARJE PRI JELŠAH</td>\n",
       "      <td>SLOVENIJA</td>\n",
       "      <td>BREZ POŠKODBE</td>\n",
       "      <td>VOZNIK OSEBNEGA AVTOMOBILA</td>\n",
       "      <td>DA</td>\n",
       "      <td>26</td>\n",
       "      <td>10</td>\n",
       "      <td>,00</td>\n",
       "      <td>,00</td>\n",
       "    </tr>\n",
       "    <tr>\n",
       "      <th>...</th>\n",
       "      <td>...</td>\n",
       "      <td>...</td>\n",
       "      <td>...</td>\n",
       "      <td>...</td>\n",
       "      <td>...</td>\n",
       "      <td>...</td>\n",
       "      <td>...</td>\n",
       "      <td>...</td>\n",
       "      <td>...</td>\n",
       "      <td>...</td>\n",
       "      <td>...</td>\n",
       "      <td>...</td>\n",
       "      <td>...</td>\n",
       "      <td>...</td>\n",
       "      <td>...</td>\n",
       "      <td>...</td>\n",
       "      <td>...</td>\n",
       "      <td>...</td>\n",
       "      <td>...</td>\n",
       "      <td>...</td>\n",
       "      <td>...</td>\n",
       "    </tr>\n",
       "    <tr>\n",
       "      <th>34156</th>\n",
       "      <td>18951</td>\n",
       "      <td>Z LAŽJO TELESNO POŠKODBO</td>\n",
       "      <td>KOPER</td>\n",
       "      <td>16.11.2019</td>\n",
       "      <td>21.10</td>\n",
       "      <td>DA</td>\n",
       "      <td>NASELJE</td>\n",
       "      <td>NASELJE Z ULIÈNIM SISTEMOM</td>\n",
       "      <td>17042</td>\n",
       "      <td>KOPER</td>\n",
       "      <td>...</td>\n",
       "      <td>MOŠKI</td>\n",
       "      <td>NaN</td>\n",
       "      <td>SLOVENIJA</td>\n",
       "      <td>BREZ POŠKODBE</td>\n",
       "      <td>VOZNIK OSEBNEGA AVTOMOBILA</td>\n",
       "      <td>DA</td>\n",
       "      <td>6</td>\n",
       "      <td>8</td>\n",
       "      <td>,00</td>\n",
       "      <td>,00</td>\n",
       "    </tr>\n",
       "    <tr>\n",
       "      <th>34157</th>\n",
       "      <td>18951</td>\n",
       "      <td>Z LAŽJO TELESNO POŠKODBO</td>\n",
       "      <td>KOPER</td>\n",
       "      <td>16.11.2019</td>\n",
       "      <td>21.10</td>\n",
       "      <td>DA</td>\n",
       "      <td>NASELJE</td>\n",
       "      <td>NASELJE Z ULIÈNIM SISTEMOM</td>\n",
       "      <td>17042</td>\n",
       "      <td>KOPER</td>\n",
       "      <td>...</td>\n",
       "      <td>MOŠKI</td>\n",
       "      <td>PIRAN</td>\n",
       "      <td>SLOVENIJA</td>\n",
       "      <td>LAŽJA TELESNA POŠKODBA</td>\n",
       "      <td>VOZNIK MOTORNEGA KOLESA</td>\n",
       "      <td>DA</td>\n",
       "      <td>0</td>\n",
       "      <td>2</td>\n",
       "      <td>,00</td>\n",
       "      <td>,00</td>\n",
       "    </tr>\n",
       "    <tr>\n",
       "      <th>34158</th>\n",
       "      <td>18952</td>\n",
       "      <td>Z LAŽJO TELESNO POŠKODBO</td>\n",
       "      <td>GROSUPLJE</td>\n",
       "      <td>25.08.2019</td>\n",
       "      <td>9.00</td>\n",
       "      <td>DA</td>\n",
       "      <td>NASELJE</td>\n",
       "      <td>NASELJE BREZ ULIÈNEGA SISTEMA</td>\n",
       "      <td>09157</td>\n",
       "      <td>ŠENTVID PRI STIÈNI</td>\n",
       "      <td>...</td>\n",
       "      <td>MOŠKI</td>\n",
       "      <td>GROSUPLJE</td>\n",
       "      <td>SLOVENIJA</td>\n",
       "      <td>LAŽJA TELESNA POŠKODBA</td>\n",
       "      <td>VOZNIK OSEBNEGA AVTOMOBILA</td>\n",
       "      <td>DA</td>\n",
       "      <td>3</td>\n",
       "      <td>4</td>\n",
       "      <td>,00</td>\n",
       "      <td>,00</td>\n",
       "    </tr>\n",
       "    <tr>\n",
       "      <th>34159</th>\n",
       "      <td>18952</td>\n",
       "      <td>Z LAŽJO TELESNO POŠKODBO</td>\n",
       "      <td>GROSUPLJE</td>\n",
       "      <td>25.08.2019</td>\n",
       "      <td>9.00</td>\n",
       "      <td>DA</td>\n",
       "      <td>NASELJE</td>\n",
       "      <td>NASELJE BREZ ULIÈNEGA SISTEMA</td>\n",
       "      <td>09157</td>\n",
       "      <td>ŠENTVID PRI STIÈNI</td>\n",
       "      <td>...</td>\n",
       "      <td>ŽENSKI</td>\n",
       "      <td>GROSUPLJE</td>\n",
       "      <td>SLOVENIJA</td>\n",
       "      <td>LAŽJA TELESNA POŠKODBA</td>\n",
       "      <td>POTNIK</td>\n",
       "      <td>DA</td>\n",
       "      <td>0</td>\n",
       "      <td>0</td>\n",
       "      <td>,00</td>\n",
       "      <td>,00</td>\n",
       "    </tr>\n",
       "    <tr>\n",
       "      <th>34160</th>\n",
       "      <td>18952</td>\n",
       "      <td>Z LAŽJO TELESNO POŠKODBO</td>\n",
       "      <td>GROSUPLJE</td>\n",
       "      <td>25.08.2019</td>\n",
       "      <td>9.00</td>\n",
       "      <td>DA</td>\n",
       "      <td>NASELJE</td>\n",
       "      <td>NASELJE BREZ ULIÈNEGA SISTEMA</td>\n",
       "      <td>09157</td>\n",
       "      <td>ŠENTVID PRI STIÈNI</td>\n",
       "      <td>...</td>\n",
       "      <td>MOŠKI</td>\n",
       "      <td>GROSUPLJE</td>\n",
       "      <td>SLOVENIJA</td>\n",
       "      <td>BREZ POŠKODBE</td>\n",
       "      <td>VOZNIK TRAKTORJA</td>\n",
       "      <td>DA</td>\n",
       "      <td>37</td>\n",
       "      <td>9</td>\n",
       "      <td>,00</td>\n",
       "      <td>,00</td>\n",
       "    </tr>\n",
       "  </tbody>\n",
       "</table>\n",
       "<p>34161 rows × 35 columns</p>\n",
       "</div>"
      ],
      "text/plain": [
       "       ZaporednaStevilkaPN      KlasifikacijaNesrece UpravnaEnotaStoritve  \\\n",
       "0                        1  Z LAŽJO TELESNO POŠKODBO            LJUBLJANA   \n",
       "1                        1  Z LAŽJO TELESNO POŠKODBO            LJUBLJANA   \n",
       "2                        2  Z LAŽJO TELESNO POŠKODBO            LJUBLJANA   \n",
       "3                        2  Z LAŽJO TELESNO POŠKODBO            LJUBLJANA   \n",
       "4                        3        Z MATERIALNO ŠKODO    ŠMARJE PRI JELŠAH   \n",
       "...                    ...                       ...                  ...   \n",
       "34156                18951  Z LAŽJO TELESNO POŠKODBO                KOPER   \n",
       "34157                18951  Z LAŽJO TELESNO POŠKODBO                KOPER   \n",
       "34158                18952  Z LAŽJO TELESNO POŠKODBO            GROSUPLJE   \n",
       "34159                18952  Z LAŽJO TELESNO POŠKODBO            GROSUPLJE   \n",
       "34160                18952  Z LAŽJO TELESNO POŠKODBO            GROSUPLJE   \n",
       "\n",
       "          DatumPN  UraPN VNaselju Lokacija              VrstaCesteNaselja  \\\n",
       "0      08.01.2019  13.15       DA  NASELJE     NASELJE Z ULIÈNIM SISTEMOM   \n",
       "1      08.01.2019  13.15       DA  NASELJE     NASELJE Z ULIÈNIM SISTEMOM   \n",
       "2      02.01.2019   5.55       DA  NASELJE  NASELJE BREZ ULIÈNEGA SISTEMA   \n",
       "3      02.01.2019   5.55       DA  NASELJE  NASELJE BREZ ULIÈNEGA SISTEMA   \n",
       "4      01.01.2019   4.00       DA  NASELJE  NASELJE BREZ ULIÈNEGA SISTEMA   \n",
       "...           ...    ...      ...      ...                            ...   \n",
       "34156  16.11.2019  21.10       DA  NASELJE     NASELJE Z ULIÈNIM SISTEMOM   \n",
       "34157  16.11.2019  21.10       DA  NASELJE     NASELJE Z ULIÈNIM SISTEMOM   \n",
       "34158  25.08.2019   9.00       DA  NASELJE  NASELJE BREZ ULIÈNEGA SISTEMA   \n",
       "34159  25.08.2019   9.00       DA  NASELJE  NASELJE BREZ ULIÈNEGA SISTEMA   \n",
       "34160  25.08.2019   9.00       DA  NASELJE  NASELJE BREZ ULIÈNEGA SISTEMA   \n",
       "\n",
       "      SifraCesteNaselja       TekstCesteNaselja  ...    Spol  \\\n",
       "0                 25001               LJUBLJANA  ...   MOŠKI   \n",
       "1                 25001               LJUBLJANA  ...  ŽENSKI   \n",
       "2                 27062         ZGORNJE PIRNIÈE  ...  ŽENSKI   \n",
       "3                 27062         ZGORNJE PIRNIÈE  ...   MOŠKI   \n",
       "4                 54153  TOPOLE-ROGAŠKA SLATINA  ...   MOŠKI   \n",
       "...                 ...                     ...  ...     ...   \n",
       "34156             17042                   KOPER  ...   MOŠKI   \n",
       "34157             17042                   KOPER  ...   MOŠKI   \n",
       "34158             09157      ŠENTVID PRI STIÈNI  ...   MOŠKI   \n",
       "34159             09157      ŠENTVID PRI STIÈNI  ...  ŽENSKI   \n",
       "34160             09157      ŠENTVID PRI STIÈNI  ...   MOŠKI   \n",
       "\n",
       "      UEStalnegaPrebivalisca  Drzavljanstvo      PoskodbaUdelezenca  \\\n",
       "0                  LJUBLJANA      SLOVENIJA           BREZ POŠKODBE   \n",
       "1                   POSTOJNA      SLOVENIJA  LAŽJA TELESNA POŠKODBA   \n",
       "2                  LJUBLJANA      SLOVENIJA           BREZ POŠKODBE   \n",
       "3                  LJUBLJANA      SLOVENIJA  LAŽJA TELESNA POŠKODBA   \n",
       "4          ŠMARJE PRI JELŠAH      SLOVENIJA           BREZ POŠKODBE   \n",
       "...                      ...            ...                     ...   \n",
       "34156                    NaN      SLOVENIJA           BREZ POŠKODBE   \n",
       "34157                  PIRAN      SLOVENIJA  LAŽJA TELESNA POŠKODBA   \n",
       "34158              GROSUPLJE      SLOVENIJA  LAŽJA TELESNA POŠKODBA   \n",
       "34159              GROSUPLJE      SLOVENIJA  LAŽJA TELESNA POŠKODBA   \n",
       "34160              GROSUPLJE      SLOVENIJA           BREZ POŠKODBE   \n",
       "\n",
       "                  VrstaUdelezenca UporabaVarnostnegaPasu VozniskiStazVLetih  \\\n",
       "0      VOZNIK OSEBNEGA AVTOMOBILA                     DA                  0   \n",
       "1      VOZNIK OSEBNEGA AVTOMOBILA                     DA                  0   \n",
       "2      VOZNIK OSEBNEGA AVTOMOBILA                     DA                 29   \n",
       "3      VOZNIK OSEBNEGA AVTOMOBILA                     DA                 58   \n",
       "4      VOZNIK OSEBNEGA AVTOMOBILA                     DA                 26   \n",
       "...                           ...                    ...                ...   \n",
       "34156  VOZNIK OSEBNEGA AVTOMOBILA                     DA                  6   \n",
       "34157     VOZNIK MOTORNEGA KOLESA                     DA                  0   \n",
       "34158  VOZNIK OSEBNEGA AVTOMOBILA                     DA                  3   \n",
       "34159                      POTNIK                     DA                  0   \n",
       "34160            VOZNIK TRAKTORJA                     DA                 37   \n",
       "\n",
       "      VozniskiStazVMesecih VrednostAlkotesta VrednostStrokovnegaPregleda  \n",
       "0                        0               ,18                         ,00  \n",
       "1                        0               ,00                         ,00  \n",
       "2                        7               ,20                         ,00  \n",
       "3                       10               ,00                         ,00  \n",
       "4                       10               ,00                         ,00  \n",
       "...                    ...               ...                         ...  \n",
       "34156                    8               ,00                         ,00  \n",
       "34157                    2               ,00                         ,00  \n",
       "34158                    4               ,00                         ,00  \n",
       "34159                    0               ,00                         ,00  \n",
       "34160                    9               ,00                         ,00  \n",
       "\n",
       "[34161 rows x 35 columns]"
      ]
     },
     "execution_count": 4,
     "metadata": {},
     "output_type": "execute_result"
    }
   ],
   "source": [
    "data = pd.read_csv('./Podatki/pn2019.csv', delimiter=';', encoding='mbcs')\n",
    "data"
   ]
  },
  {
   "cell_type": "code",
   "execution_count": 3,
   "id": "4f64a658",
   "metadata": {},
   "outputs": [
    {
     "data": {
      "text/html": [
       "<div>\n",
       "<style scoped>\n",
       "    .dataframe tbody tr th:only-of-type {\n",
       "        vertical-align: middle;\n",
       "    }\n",
       "\n",
       "    .dataframe tbody tr th {\n",
       "        vertical-align: top;\n",
       "    }\n",
       "\n",
       "    .dataframe thead th {\n",
       "        text-align: right;\n",
       "    }\n",
       "</style>\n",
       "<table border=\"1\" class=\"dataframe\">\n",
       "  <thead>\n",
       "    <tr style=\"text-align: right;\">\n",
       "      <th></th>\n",
       "      <th>TipNesrece</th>\n",
       "      <th>VremenskeOkoliscine</th>\n",
       "      <th>StanjePrometa</th>\n",
       "      <th>StanjeVozisca</th>\n",
       "      <th>VrstaVozisca</th>\n",
       "      <th>GeoKoordinataX</th>\n",
       "      <th>GeoKoordinataY</th>\n",
       "      <th>ZaporednaStevilkaOsebeVPN</th>\n",
       "      <th>Povzrocitelj</th>\n",
       "      <th>Starost</th>\n",
       "    </tr>\n",
       "  </thead>\n",
       "  <tbody>\n",
       "    <tr>\n",
       "      <th>0</th>\n",
       "      <td>TRÈENJE V STOJEÈE / PARKIRANO VOZILO</td>\n",
       "      <td>DEŽEVNO</td>\n",
       "      <td>GOST</td>\n",
       "      <td>MOKRO</td>\n",
       "      <td>ZGLAJEN ASFALT / BETON</td>\n",
       "      <td>101505</td>\n",
       "      <td>464773</td>\n",
       "      <td>1001</td>\n",
       "      <td>UDELEŽENEC</td>\n",
       "      <td>50</td>\n",
       "    </tr>\n",
       "    <tr>\n",
       "      <th>1</th>\n",
       "      <td>TRÈENJE V STOJEÈE / PARKIRANO VOZILO</td>\n",
       "      <td>DEŽEVNO</td>\n",
       "      <td>GOST</td>\n",
       "      <td>MOKRO</td>\n",
       "      <td>ZGLAJEN ASFALT / BETON</td>\n",
       "      <td>101505</td>\n",
       "      <td>464773</td>\n",
       "      <td>1002</td>\n",
       "      <td>POVZROÈITELJ</td>\n",
       "      <td>22</td>\n",
       "    </tr>\n",
       "    <tr>\n",
       "      <th>2</th>\n",
       "      <td>ÈELNO TRÈENJE</td>\n",
       "      <td>JASNO</td>\n",
       "      <td>REDEK</td>\n",
       "      <td>SPOLZKO</td>\n",
       "      <td>HRAPAV  ASFALT / BETON</td>\n",
       "      <td>110757</td>\n",
       "      <td>456269</td>\n",
       "      <td>2001</td>\n",
       "      <td>POVZROÈITELJ</td>\n",
       "      <td>47</td>\n",
       "    </tr>\n",
       "    <tr>\n",
       "      <th>3</th>\n",
       "      <td>ÈELNO TRÈENJE</td>\n",
       "      <td>JASNO</td>\n",
       "      <td>REDEK</td>\n",
       "      <td>SPOLZKO</td>\n",
       "      <td>HRAPAV  ASFALT / BETON</td>\n",
       "      <td>110757</td>\n",
       "      <td>456269</td>\n",
       "      <td>2002</td>\n",
       "      <td>UDELEŽENEC</td>\n",
       "      <td>78</td>\n",
       "    </tr>\n",
       "    <tr>\n",
       "      <th>4</th>\n",
       "      <td>BOÈNO TRÈENJE</td>\n",
       "      <td>OBLAÈNO</td>\n",
       "      <td>REDEK</td>\n",
       "      <td>MOKRO</td>\n",
       "      <td>ZGLAJEN ASFALT / BETON</td>\n",
       "      <td>120860</td>\n",
       "      <td>547660</td>\n",
       "      <td>3001</td>\n",
       "      <td>POVZROÈITELJ</td>\n",
       "      <td>44</td>\n",
       "    </tr>\n",
       "  </tbody>\n",
       "</table>\n",
       "</div>"
      ],
      "text/plain": [
       "                             TipNesrece VremenskeOkoliscine StanjePrometa  \\\n",
       "0  TRÈENJE V STOJEÈE / PARKIRANO VOZILO             DEŽEVNO          GOST   \n",
       "1  TRÈENJE V STOJEÈE / PARKIRANO VOZILO             DEŽEVNO          GOST   \n",
       "2                         ÈELNO TRÈENJE               JASNO         REDEK   \n",
       "3                         ÈELNO TRÈENJE               JASNO         REDEK   \n",
       "4                         BOÈNO TRÈENJE             OBLAÈNO         REDEK   \n",
       "\n",
       "  StanjeVozisca            VrstaVozisca  GeoKoordinataX  GeoKoordinataY  \\\n",
       "0         MOKRO  ZGLAJEN ASFALT / BETON          101505          464773   \n",
       "1         MOKRO  ZGLAJEN ASFALT / BETON          101505          464773   \n",
       "2       SPOLZKO  HRAPAV  ASFALT / BETON          110757          456269   \n",
       "3       SPOLZKO  HRAPAV  ASFALT / BETON          110757          456269   \n",
       "4         MOKRO  ZGLAJEN ASFALT / BETON          120860          547660   \n",
       "\n",
       "   ZaporednaStevilkaOsebeVPN  Povzrocitelj  Starost  \n",
       "0                       1001    UDELEŽENEC       50  \n",
       "1                       1002  POVZROÈITELJ       22  \n",
       "2                       2001  POVZROÈITELJ       47  \n",
       "3                       2002    UDELEŽENEC       78  \n",
       "4                       3001  POVZROÈITELJ       44  "
      ]
     },
     "execution_count": 3,
     "metadata": {},
     "output_type": "execute_result"
    }
   ],
   "source": [
    "data.iloc[0:5,15:25]\n"
   ]
  },
  {
   "cell_type": "markdown",
   "id": "755172d3",
   "metadata": {},
   "source": [
    "# Profil povzrociteljev nesrece\n",
    "\n",
    "(datum, ura) - nocni voznik, dnevni\n",
    "\n",
    "\n",
    "24. povzrocitrelj?\n",
    "\n",
    "25. starost\n",
    "\n",
    "26. spol\n",
    "\n",
    "27. UE\n",
    "\n",
    "28. drzavljanstvo\n",
    "\n",
    "29. voznik kaksenga vozila?\n",
    "\n",
    "32. staz leta\n",
    "\n",
    "33. staz meseci (0,0) = brez izpita\n",
    "\n",
    "34. alkotest\n",
    "\n",
    "35. strokovni pregled alko\n",
    "\n"
   ]
  },
  {
   "cell_type": "markdown",
   "id": "fff797b0",
   "metadata": {},
   "source": [
    "**Primerjava po spolih**"
   ]
  },
  {
   "cell_type": "code",
   "execution_count": 4,
   "id": "636862ba",
   "metadata": {},
   "outputs": [
    {
     "data": {
      "text/plain": [
       "Index(['ZaporednaStevilkaPN', 'KlasifikacijaNesrece', 'UpravnaEnotaStoritve',\n",
       "       'DatumPN', 'UraPN', 'VNaselju', 'Lokacija', 'VrstaCesteNaselja',\n",
       "       'SifraCesteNaselja', 'TekstCesteNaselja', 'SifraOdsekaUlice',\n",
       "       'TekstOdsekaUlice', 'StacionazaDogodka', 'OpisKraja', 'VzrokNesrece',\n",
       "       'TipNesrece', 'VremenskeOkoliscine', 'StanjePrometa', 'StanjeVozisca',\n",
       "       'VrstaVozisca', 'GeoKoordinataX', 'GeoKoordinataY',\n",
       "       'ZaporednaStevilkaOsebeVPN', 'Povzrocitelj', 'Starost', 'Spol',\n",
       "       'UEStalnegaPrebivalisca', 'Drzavljanstvo', 'PoskodbaUdelezenca',\n",
       "       'VrstaUdelezenca', 'UporabaVarnostnegaPasu', 'VozniskiStazVLetih',\n",
       "       'VozniskiStazVMesecih', 'VrednostAlkotesta',\n",
       "       'VrednostStrokovnegaPregleda'],\n",
       "      dtype='object')"
      ]
     },
     "execution_count": 4,
     "metadata": {},
     "output_type": "execute_result"
    }
   ],
   "source": [
    "data.columns"
   ]
  },
  {
   "cell_type": "code",
   "execution_count": 5,
   "id": "4c106941",
   "metadata": {},
   "outputs": [],
   "source": [
    "povz = data[data.Povzrocitelj == 'POVZROÈITELJ']\n",
    "ude = data[data.Povzrocitelj == 'UDELEŽENEC']"
   ]
  },
  {
   "cell_type": "code",
   "execution_count": 17,
   "id": "e9ee4f50",
   "metadata": {},
   "outputs": [],
   "source": [
    "#sum(povz.Spol == 'ŽENSKI') / sum(povz.Spol == 'MOŠKI')\n",
    "\n",
    "#sum(povz.Spol == 'MOŠKI')\n",
    "\n",
    "#sum(data.Spol == 'MOŠKI')\n",
    "\n",
    "#sum(data.Spol == 'ŽENSKI') / sum(data.Spol == 'MOŠKI')\n",
    "\n",
    "#sum(ude.Spol == 'ŽENSKI') / sum(ude.Spol == 'MOŠKI')\n",
    "\n",
    "x = [sum(povz.Spol == 'ŽENSKI'), sum(povz.Spol == 'MOŠKI'), sum(ude.Spol == 'ŽENSKI'), sum(ude.Spol == 'MOŠKI')]"
   ]
  },
  {
   "cell_type": "code",
   "execution_count": 18,
   "id": "5995bd81",
   "metadata": {},
   "outputs": [
    {
     "data": {
      "text/plain": [
       "[4407, 11697, 6552, 11420]"
      ]
     },
     "execution_count": 18,
     "metadata": {},
     "output_type": "execute_result"
    }
   ],
   "source": [
    "x"
   ]
  },
  {
   "cell_type": "code",
   "execution_count": 23,
   "id": "a06a49c8",
   "metadata": {
    "scrolled": true
   },
   "outputs": [
    {
     "data": {
      "image/png": "[encoded data removed]",
      "text/plain": [
       "<Figure size 432x288 with 1 Axes>"
      ]
     },
     "metadata": {
      "needs_background": "light"
     },
     "output_type": "display_data"
    }
   ],
   "source": [
    "ind = ['Povzročitelji', 'Udeleženci']\n",
    "moski = (x[1]/(x[1]+x[0])*100, x[3]/(x[3]+x[2])*100)\n",
    "zenske = (x[0]/(x[1]+x[0])*100, x[2]/(x[3]+x[2])*100)\n",
    "width = 0.75\n",
    "fig = plt.figure()\n",
    "ax = fig.add_axes([0,0,1,1])\n",
    "ax.bar(ind, zenske, width, color='#f9bc86')\n",
    "ax.bar(ind, moski, width, bottom=zenske, color='#a3acff')\n",
    "ax.set_ylabel('Delež')\n",
    "ax.set_title('Delež spola po povzročiteljih')\n",
    "#ax.set_xticks(ind, ('P', 'U'))\n",
    "#ax.set_yticks(np.arange(0, 81, 10))\n",
    "ax.legend(labels=['Ženske', 'Moški'])\n",
    "plt.show()"
   ]
  },
  {
   "cell_type": "code",
   "execution_count": 24,
   "id": "3139cb58",
   "metadata": {
    "scrolled": true
   },
   "outputs": [
    {
     "data": {
      "image/png": "[encoded data removed]",
      "text/plain": [
       "<Figure size 432x288 with 1 Axes>"
      ]
     },
     "metadata": {
      "needs_background": "light"
     },
     "output_type": "display_data"
    }
   ],
   "source": [
    "fig = plt.figure()\n",
    "ax = fig.add_axes([0,0,1,1])\n",
    "lbls = ['Ž povzročiteljice', 'M povzročitelji', 'Ž udeleženke ', 'M udeleženci']\n",
    "ax.bar(lbls, x)\n",
    "plt.show()"
   ]
  },
  {
   "cell_type": "markdown",
   "id": "e4305c8e",
   "metadata": {},
   "source": [
    "**Dodatno**"
   ]
  },
  {
   "cell_type": "code",
   "execution_count": 21,
   "id": "7748b908",
   "metadata": {},
   "outputs": [
    {
     "data": {
      "image/png": "[encoded data removed]",
      "text/plain": [
       "<Figure size 432x288 with 1 Axes>"
      ]
     },
     "metadata": {},
     "output_type": "display_data"
    }
   ],
   "source": [
    "labels = 'moski', 'zenske'\n",
    "sizes = [x[1], x[0]]\n",
    "\n",
    "fig1, ax1 = plt.subplots()\n",
    "ax1.pie(sizes, labels=labels, autopct='%1.1f%%',\n",
    "        shadow=True, startangle=90)\n",
    "ax1.axis('equal')  # Equal aspect ratio ensures that pie is drawn as a circle.\n",
    "\n",
    "plt.show()\n"
   ]
  },
  {
   "cell_type": "code",
   "execution_count": 22,
   "id": "64336b5b",
   "metadata": {},
   "outputs": [
    {
     "data": {
      "image/png": "[encoded data removed]",
      "text/plain": [
       "<Figure size 432x288 with 1 Axes>"
      ]
     },
     "metadata": {},
     "output_type": "display_data"
    }
   ],
   "source": [
    "labels = 'moski', 'zenske'\n",
    "sizes = [x[3], x[2]]\n",
    "\n",
    "fig1, ax1 = plt.subplots()\n",
    "ax1.pie(sizes, labels=labels, autopct='%1.1f%%',\n",
    "        shadow=True, startangle=90)\n",
    "ax1.axis('equal')  # Equal aspect ratio ensures that pie is drawn as a circle.\n",
    "\n",
    "plt.show()\n"
   ]
  },
  {
   "cell_type": "markdown",
   "id": "c78157e7",
   "metadata": {},
   "source": [
    "Primerjava po vsebovanosti alkohola"
   ]
  },
  {
   "cell_type": "markdown",
   "id": "d4aca253",
   "metadata": {},
   "source": [
    "1.vinjen/nevinjen"
   ]
  },
  {
   "cell_type": "code",
   "execution_count": 8,
   "id": "0265a579",
   "metadata": {},
   "outputs": [],
   "source": [
    "data = pd.read_csv('./Podatki/pn2019.csv', delimiter=';', encoding='mbcs')\n",
    "data['VrednostAlkotesta']= data['VrednostAlkotesta'].str.replace(',','.')\n",
    "data['VrednostAlkotesta']= data['VrednostAlkotesta'].astype(float)"
   ]
  },
  {
   "cell_type": "code",
   "execution_count": 148,
   "id": "e1017c1c",
   "metadata": {},
   "outputs": [],
   "source": [
    "povz = data[data.Povzrocitelj == 'POVZROÈITELJ']\n",
    "ude = data[data.Povzrocitelj == 'UDELEŽENEC']"
   ]
  },
  {
   "cell_type": "code",
   "execution_count": 149,
   "id": "e5729ca1",
   "metadata": {},
   "outputs": [],
   "source": [
    "trezni_povz = povz[povz.VrednostAlkotesta==0.00]\n",
    "trezni_ude = ude[ude.VrednostAlkotesta==0.00]\n",
    "vinjeni_povz = povz[povz.VrednostAlkotesta!=0.00]\n",
    "vinjeni_ude = ude[ude.VrednostAlkotesta!=0.00]"
   ]
  },
  {
   "cell_type": "code",
   "execution_count": 150,
   "id": "878d73ac",
   "metadata": {},
   "outputs": [
    {
     "name": "stdout",
     "output_type": "stream",
     "text": [
      "34077\n"
     ]
    }
   ],
   "source": [
    "st_trezni=sum(data.VrednostAlkotesta==0.00)\n",
    "st_vinjeni=sum(data.VrednostAlkotesta!=0.00)\n",
    "st_trezni_povz = sum(povz.VrednostAlkotesta==0.00)\n",
    "st_trezni_ude = sum(ude.VrednostAlkotesta==0.00)\n",
    "st_vinjeni_povz = sum(povz.VrednostAlkotesta!=0.00)\n",
    "st_vinjeni_ude = sum(ude.VrednostAlkotesta!=0.00)\n",
    "print(st_vinjeni_povz+ st_vinjeni_ude+st_trezni_povz+ st_trezni_ude)"
   ]
  },
  {
   "cell_type": "code",
   "execution_count": 199,
   "id": "4b74ce8c",
   "metadata": {},
   "outputs": [
    {
     "data": {
      "image/png": "[encoded data removed]",
      "text/plain": [
       "<Figure size 432x288 with 1 Axes>"
      ]
     },
     "metadata": {
      "needs_background": "light"
     },
     "output_type": "display_data"
    }
   ],
   "source": [
    "x = [st_vinjeni_povz, st_trezni_povz, st_vinjeni_ude, st_trezni_ude]\n",
    "ind = ['Povzročitelji', 'Udeleženci']\n",
    "trezni = (x[1]/(x[1]+x[0])*100, x[3]/(x[3]+x[2])*100)\n",
    "vinjeni = (x[0]/(x[1]+x[0])*100, x[2]/(x[3]+x[2])*100)\n",
    "width = 0.75\n",
    "fig = plt.figure()\n",
    "ax = fig.add_axes([0,0,1,1])\n",
    "ax.bar(ind, vinjeni, width, color='#f9bc86')\n",
    "ax.bar(ind, trezni, width, bottom=vinjeni, color='#a3acff')\n",
    "ax.set_ylabel('Delež')\n",
    "ax.set_title('Delež vinjenosti po povzročiteljih')\n",
    "#ax.set_xticks(ind, ('P', 'U'))\n",
    "#ax.set_yticks(np.arange(0, 81, 10))\n",
    "ax.legend(labels=['Vinjeni', 'Trezni'])\n",
    "plt.show()"
   ]
  },
  {
   "cell_type": "markdown",
   "id": "cfa2fa6f",
   "metadata": {},
   "source": [
    "iz grafa je razvidno da je večja verjetnost da bo vinjeni voznik postal povzročitel prometne nesreče kot pa bil udeleženec"
   ]
  },
  {
   "cell_type": "code",
   "execution_count": 172,
   "id": "9e4f12e0",
   "metadata": {},
   "outputs": [
    {
     "data": {
      "text/html": [
       "<div>\n",
       "<style scoped>\n",
       "    .dataframe tbody tr th:only-of-type {\n",
       "        vertical-align: middle;\n",
       "    }\n",
       "\n",
       "    .dataframe tbody tr th {\n",
       "        vertical-align: top;\n",
       "    }\n",
       "\n",
       "    .dataframe thead th {\n",
       "        text-align: right;\n",
       "    }\n",
       "</style>\n",
       "<table border=\"1\" class=\"dataframe\">\n",
       "  <thead>\n",
       "    <tr style=\"text-align: right;\">\n",
       "      <th></th>\n",
       "      <th>ZaporednaStevilkaPN</th>\n",
       "      <th>UraPN</th>\n",
       "      <th>SifraOdsekaUlice</th>\n",
       "      <th>StacionazaDogodka</th>\n",
       "      <th>GeoKoordinataX</th>\n",
       "      <th>GeoKoordinataY</th>\n",
       "      <th>ZaporednaStevilkaOsebeVPN</th>\n",
       "      <th>Starost</th>\n",
       "      <th>VozniskiStazVLetih</th>\n",
       "      <th>VozniskiStazVMesecih</th>\n",
       "      <th>VrednostAlkotesta</th>\n",
       "    </tr>\n",
       "  </thead>\n",
       "  <tbody>\n",
       "    <tr>\n",
       "      <th>ZaporednaStevilkaPN</th>\n",
       "      <td>1.000000</td>\n",
       "      <td>0.014715</td>\n",
       "      <td>-0.010243</td>\n",
       "      <td>-0.021634</td>\n",
       "      <td>-0.020196</td>\n",
       "      <td>-0.006425</td>\n",
       "      <td>1.000000</td>\n",
       "      <td>-0.001874</td>\n",
       "      <td>-0.010740</td>\n",
       "      <td>-0.000768</td>\n",
       "      <td>-0.004121</td>\n",
       "    </tr>\n",
       "    <tr>\n",
       "      <th>UraPN</th>\n",
       "      <td>0.014715</td>\n",
       "      <td>1.000000</td>\n",
       "      <td>0.037453</td>\n",
       "      <td>-0.020823</td>\n",
       "      <td>-0.024663</td>\n",
       "      <td>-0.021934</td>\n",
       "      <td>0.014715</td>\n",
       "      <td>-0.048874</td>\n",
       "      <td>-0.040430</td>\n",
       "      <td>-0.015455</td>\n",
       "      <td>0.080962</td>\n",
       "    </tr>\n",
       "    <tr>\n",
       "      <th>SifraOdsekaUlice</th>\n",
       "      <td>-0.010243</td>\n",
       "      <td>0.037453</td>\n",
       "      <td>1.000000</td>\n",
       "      <td>-0.135045</td>\n",
       "      <td>-0.192822</td>\n",
       "      <td>-0.219759</td>\n",
       "      <td>-0.010243</td>\n",
       "      <td>-0.006659</td>\n",
       "      <td>-0.029581</td>\n",
       "      <td>-0.006125</td>\n",
       "      <td>-0.017625</td>\n",
       "    </tr>\n",
       "    <tr>\n",
       "      <th>StacionazaDogodka</th>\n",
       "      <td>-0.021634</td>\n",
       "      <td>-0.020823</td>\n",
       "      <td>-0.135045</td>\n",
       "      <td>1.000000</td>\n",
       "      <td>-0.019039</td>\n",
       "      <td>0.049239</td>\n",
       "      <td>-0.021634</td>\n",
       "      <td>-0.025475</td>\n",
       "      <td>0.025072</td>\n",
       "      <td>0.049714</td>\n",
       "      <td>0.000580</td>\n",
       "    </tr>\n",
       "    <tr>\n",
       "      <th>GeoKoordinataX</th>\n",
       "      <td>-0.020196</td>\n",
       "      <td>-0.024663</td>\n",
       "      <td>-0.192822</td>\n",
       "      <td>-0.019039</td>\n",
       "      <td>1.000000</td>\n",
       "      <td>0.738952</td>\n",
       "      <td>-0.020196</td>\n",
       "      <td>0.007869</td>\n",
       "      <td>0.026741</td>\n",
       "      <td>0.014132</td>\n",
       "      <td>-0.009494</td>\n",
       "    </tr>\n",
       "    <tr>\n",
       "      <th>GeoKoordinataY</th>\n",
       "      <td>-0.006425</td>\n",
       "      <td>-0.021934</td>\n",
       "      <td>-0.219759</td>\n",
       "      <td>0.049239</td>\n",
       "      <td>0.738952</td>\n",
       "      <td>1.000000</td>\n",
       "      <td>-0.006425</td>\n",
       "      <td>-0.000626</td>\n",
       "      <td>0.036330</td>\n",
       "      <td>0.024882</td>\n",
       "      <td>-0.007822</td>\n",
       "    </tr>\n",
       "    <tr>\n",
       "      <th>ZaporednaStevilkaOsebeVPN</th>\n",
       "      <td>1.000000</td>\n",
       "      <td>0.014715</td>\n",
       "      <td>-0.010243</td>\n",
       "      <td>-0.021634</td>\n",
       "      <td>-0.020196</td>\n",
       "      <td>-0.006425</td>\n",
       "      <td>1.000000</td>\n",
       "      <td>-0.001874</td>\n",
       "      <td>-0.010740</td>\n",
       "      <td>-0.000768</td>\n",
       "      <td>-0.004121</td>\n",
       "    </tr>\n",
       "    <tr>\n",
       "      <th>Starost</th>\n",
       "      <td>-0.001874</td>\n",
       "      <td>-0.048874</td>\n",
       "      <td>-0.006659</td>\n",
       "      <td>-0.025475</td>\n",
       "      <td>0.007869</td>\n",
       "      <td>-0.000626</td>\n",
       "      <td>-0.001874</td>\n",
       "      <td>1.000000</td>\n",
       "      <td>0.619286</td>\n",
       "      <td>0.014222</td>\n",
       "      <td>0.002692</td>\n",
       "    </tr>\n",
       "    <tr>\n",
       "      <th>VozniskiStazVLetih</th>\n",
       "      <td>-0.010740</td>\n",
       "      <td>-0.040430</td>\n",
       "      <td>-0.029581</td>\n",
       "      <td>0.025072</td>\n",
       "      <td>0.026741</td>\n",
       "      <td>0.036330</td>\n",
       "      <td>-0.010740</td>\n",
       "      <td>0.619286</td>\n",
       "      <td>1.000000</td>\n",
       "      <td>0.323461</td>\n",
       "      <td>0.008875</td>\n",
       "    </tr>\n",
       "    <tr>\n",
       "      <th>VozniskiStazVMesecih</th>\n",
       "      <td>-0.000768</td>\n",
       "      <td>-0.015455</td>\n",
       "      <td>-0.006125</td>\n",
       "      <td>0.049714</td>\n",
       "      <td>0.014132</td>\n",
       "      <td>0.024882</td>\n",
       "      <td>-0.000768</td>\n",
       "      <td>0.014222</td>\n",
       "      <td>0.323461</td>\n",
       "      <td>1.000000</td>\n",
       "      <td>0.019953</td>\n",
       "    </tr>\n",
       "    <tr>\n",
       "      <th>VrednostAlkotesta</th>\n",
       "      <td>-0.004121</td>\n",
       "      <td>0.080962</td>\n",
       "      <td>-0.017625</td>\n",
       "      <td>0.000580</td>\n",
       "      <td>-0.009494</td>\n",
       "      <td>-0.007822</td>\n",
       "      <td>-0.004121</td>\n",
       "      <td>0.002692</td>\n",
       "      <td>0.008875</td>\n",
       "      <td>0.019953</td>\n",
       "      <td>1.000000</td>\n",
       "    </tr>\n",
       "  </tbody>\n",
       "</table>\n",
       "</div>"
      ],
      "text/plain": [
       "                           ZaporednaStevilkaPN     UraPN  SifraOdsekaUlice  \\\n",
       "ZaporednaStevilkaPN                   1.000000  0.014715         -0.010243   \n",
       "UraPN                                 0.014715  1.000000          0.037453   \n",
       "SifraOdsekaUlice                     -0.010243  0.037453          1.000000   \n",
       "StacionazaDogodka                    -0.021634 -0.020823         -0.135045   \n",
       "GeoKoordinataX                       -0.020196 -0.024663         -0.192822   \n",
       "GeoKoordinataY                       -0.006425 -0.021934         -0.219759   \n",
       "ZaporednaStevilkaOsebeVPN             1.000000  0.014715         -0.010243   \n",
       "Starost                              -0.001874 -0.048874         -0.006659   \n",
       "VozniskiStazVLetih                   -0.010740 -0.040430         -0.029581   \n",
       "VozniskiStazVMesecih                 -0.000768 -0.015455         -0.006125   \n",
       "VrednostAlkotesta                    -0.004121  0.080962         -0.017625   \n",
       "\n",
       "                           StacionazaDogodka  GeoKoordinataX  GeoKoordinataY  \\\n",
       "ZaporednaStevilkaPN                -0.021634       -0.020196       -0.006425   \n",
       "UraPN                              -0.020823       -0.024663       -0.021934   \n",
       "SifraOdsekaUlice                   -0.135045       -0.192822       -0.219759   \n",
       "StacionazaDogodka                   1.000000       -0.019039        0.049239   \n",
       "GeoKoordinataX                     -0.019039        1.000000        0.738952   \n",
       "GeoKoordinataY                      0.049239        0.738952        1.000000   \n",
       "ZaporednaStevilkaOsebeVPN          -0.021634       -0.020196       -0.006425   \n",
       "Starost                            -0.025475        0.007869       -0.000626   \n",
       "VozniskiStazVLetih                  0.025072        0.026741        0.036330   \n",
       "VozniskiStazVMesecih                0.049714        0.014132        0.024882   \n",
       "VrednostAlkotesta                   0.000580       -0.009494       -0.007822   \n",
       "\n",
       "                           ZaporednaStevilkaOsebeVPN   Starost  \\\n",
       "ZaporednaStevilkaPN                         1.000000 -0.001874   \n",
       "UraPN                                       0.014715 -0.048874   \n",
       "SifraOdsekaUlice                           -0.010243 -0.006659   \n",
       "StacionazaDogodka                          -0.021634 -0.025475   \n",
       "GeoKoordinataX                             -0.020196  0.007869   \n",
       "GeoKoordinataY                             -0.006425 -0.000626   \n",
       "ZaporednaStevilkaOsebeVPN                   1.000000 -0.001874   \n",
       "Starost                                    -0.001874  1.000000   \n",
       "VozniskiStazVLetih                         -0.010740  0.619286   \n",
       "VozniskiStazVMesecih                       -0.000768  0.014222   \n",
       "VrednostAlkotesta                          -0.004121  0.002692   \n",
       "\n",
       "                           VozniskiStazVLetih  VozniskiStazVMesecih  \\\n",
       "ZaporednaStevilkaPN                 -0.010740             -0.000768   \n",
       "UraPN                               -0.040430             -0.015455   \n",
       "SifraOdsekaUlice                    -0.029581             -0.006125   \n",
       "StacionazaDogodka                    0.025072              0.049714   \n",
       "GeoKoordinataX                       0.026741              0.014132   \n",
       "GeoKoordinataY                       0.036330              0.024882   \n",
       "ZaporednaStevilkaOsebeVPN           -0.010740             -0.000768   \n",
       "Starost                              0.619286              0.014222   \n",
       "VozniskiStazVLetih                   1.000000              0.323461   \n",
       "VozniskiStazVMesecih                 0.323461              1.000000   \n",
       "VrednostAlkotesta                    0.008875              0.019953   \n",
       "\n",
       "                           VrednostAlkotesta  \n",
       "ZaporednaStevilkaPN                -0.004121  \n",
       "UraPN                               0.080962  \n",
       "SifraOdsekaUlice                   -0.017625  \n",
       "StacionazaDogodka                   0.000580  \n",
       "GeoKoordinataX                     -0.009494  \n",
       "GeoKoordinataY                     -0.007822  \n",
       "ZaporednaStevilkaOsebeVPN          -0.004121  \n",
       "Starost                             0.002692  \n",
       "VozniskiStazVLetih                  0.008875  \n",
       "VozniskiStazVMesecih                0.019953  \n",
       "VrednostAlkotesta                   1.000000  "
      ]
     },
     "execution_count": 172,
     "metadata": {},
     "output_type": "execute_result"
    }
   ],
   "source": [
    "data.corr()"
   ]
  },
  {
   "cell_type": "code",
   "execution_count": 174,
   "id": "fedef906",
   "metadata": {},
   "outputs": [],
   "source": [
    "spol = pd.get_dummies(data.Spol)\n",
    "VrstaUdelezenca = pd.get_dummies(data.VrstaUdelezenca)\n",
    "PoskodbaUdelezenca = pd.get_dummies(data.PoskodbaUdelezenca)\n",
    "KlasifikacijaNesrece = pd.get_dummies(data.KlasifikacijaNesrece)\n",
    "data_test = pd.concat([data,spol], axis=1)\n",
    "data_test = pd.concat([data_test,VrstaUdelezenca], axis=1)\n",
    "data_test = pd.concat([data_test,PoskodbaUdelezenca], axis=1)\n",
    "data_test = pd.concat([data_test,KlasifikacijaNesrece], axis=1)"
   ]
  },
  {
   "cell_type": "code",
   "execution_count": 179,
   "id": "41bba8ea",
   "metadata": {},
   "outputs": [
    {
     "data": {
      "text/plain": [
       "ZaporednaStevilkaPN                                                     -0.004121\n",
       "UraPN                                                                    0.080962\n",
       "SifraOdsekaUlice                                                        -0.017625\n",
       "StacionazaDogodka                                                        0.000580\n",
       "GeoKoordinataX                                                          -0.009494\n",
       "GeoKoordinataY                                                          -0.007822\n",
       "ZaporednaStevilkaOsebeVPN                                               -0.004121\n",
       "Starost                                                                  0.002692\n",
       "VozniskiStazVLetih                                                       0.008875\n",
       "VozniskiStazVMesecih                                                     0.019953\n",
       "VrednostAlkotesta                                                        1.000000\n",
       "MOŠKI                                                                    0.084574\n",
       "NEZNAN                                                                  -0.001086\n",
       "ŽENSKI                                                                  -0.084563\n",
       "KOLESAR                                                                  0.045912\n",
       "ODGOVORNA OSEBA                                                         -0.005748\n",
       "OSTALO                                                                  -0.038058\n",
       "PEŠEC                                                                   -0.013850\n",
       "POSAMEZNIK, S.P., KI SAMOSTOJNO OPRAVLJA DEJAVNOST IN ZAPOSLUJE DRUGE   -0.001881\n",
       "POTNIK                                                                  -0.038253\n",
       "PRAVNA OSEBA                                                            -0.002428\n",
       "SAMOSTOJNI PODJETNIK                                                    -0.001881\n",
       "SKRBNIK MLADOLETNIKA                                                    -0.005850\n",
       "UPORABNIK E-SKIROJA                                                     -0.003258\n",
       "UÈITELJ VOŽNJE MED USPOSABLJANJEM KANDIDATA ZA VOZNIKA MV               -0.003762\n",
       "VOZNIK AVTOBUSA                                                         -0.018946\n",
       "VOZNIK DELOVNEGA STROJA                                                 -0.005634\n",
       "VOZNIK KOLESA S POMOŽNIM ELEKTRIÈNIM MOTORJEM                            0.008331\n",
       "VOZNIK KOMBINIRANEGA VOZILA                                             -0.001083\n",
       "VOZNIK LAHKEGA ŠTIRIKOLESA                                              -0.002660\n",
       "VOZNIK MOPEDA                                                            0.036951\n",
       "VOZNIK MOPEDA DO 25 KM/H                                                 0.017482\n",
       "VOZNIK MOTORNEGA KOLESA                                                 -0.004515\n",
       "VOZNIK OSEBNEGA AVTOMOBILA                                               0.035877\n",
       "VOZNIK SPECIALNEGA VOZILA                                               -0.006698\n",
       "VOZNIK TOVORNEGA VOZILA                                                 -0.033434\n",
       "VOZNIK TRAKTORJA                                                         0.016153\n",
       "VOZNIK TRIKOLESA                                                        -0.003391\n",
       "VOZNIK ŠTIRIKOLESA                                                       0.019376\n",
       "BREZ POŠKODBE                                                           -0.005731\n",
       "BREZ POŠKODBE-UZ                                                        -0.018632\n",
       "HUDA TELESNA POŠKODBA                                                    0.006008\n",
       "LAŽJA TELESNA POŠKODBA                                                   0.011318\n",
       "SMRT                                                                    -0.010983\n",
       "S HUDO TELESNO POŠKODBO                                                  0.011411\n",
       "S SMRTNIM IZIDOM                                                        -0.010605\n",
       "Z LAŽJO TELESNO POŠKODBO                                                 0.000340\n",
       "Z MATERIALNO ŠKODO                                                      -0.003272\n",
       "Name: VrednostAlkotesta, dtype: float64"
      ]
     },
     "execution_count": 179,
     "metadata": {},
     "output_type": "execute_result"
    }
   ],
   "source": [
    "data_test.corr().VrednostAlkotesta"
   ]
  },
  {
   "cell_type": "markdown",
   "id": "c035e65e",
   "metadata": {},
   "source": [
    "iz tabele korelacij je razvidno da obstaja neka korelacija med spolom in vrednostjo alkotesta"
   ]
  },
  {
   "cell_type": "code",
   "execution_count": 190,
   "id": "b42ae5c4",
   "metadata": {},
   "outputs": [
    {
     "name": "stdout",
     "output_type": "stream",
     "text": [
      "povprečno vrednost lalkohola v krvi pri ženskah:\n"
     ]
    },
    {
     "data": {
      "text/plain": [
       "0.012156505914467703"
      ]
     },
     "execution_count": 190,
     "metadata": {},
     "output_type": "execute_result"
    }
   ],
   "source": [
    "print(\"povprečno vrednost lalkohola v krvi pri ženskah:\")\n",
    "sum(data.VrednostAlkotesta[data.Spol==\"ŽENSKI\"])/sum(data.Spol==\"ŽENSKI\")"
   ]
  },
  {
   "cell_type": "code",
   "execution_count": 189,
   "id": "04f2534f",
   "metadata": {},
   "outputs": [
    {
     "name": "stdout",
     "output_type": "stream",
     "text": [
      "povprečno vrednost lalkohola v krvi pri moških:\n"
     ]
    },
    {
     "data": {
      "text/plain": [
       "0.04040353905912806"
      ]
     },
     "execution_count": 189,
     "metadata": {},
     "output_type": "execute_result"
    }
   ],
   "source": [
    "print(\"povprečno vrednost lalkohola v krvi pri moških:\")\n",
    "sum(data.VrednostAlkotesta[data.Spol==\"MOŠKI\"])/sum(data.Spol==\"MOŠKI\")"
   ]
  },
  {
   "cell_type": "markdown",
   "id": "32c00680",
   "metadata": {},
   "source": [
    "prav tako obstaja korelacija med uro prometne  nesreče in vrednostjo alkotesta"
   ]
  },
  {
   "cell_type": "code",
   "execution_count": 28,
   "id": "3c272a9b",
   "metadata": {},
   "outputs": [],
   "source": [
    "data = data.loc[data[\"VrednostAlkotesta\"] < 4]"
   ]
  },
  {
   "cell_type": "code",
   "execution_count": 198,
   "id": "04aac23b",
   "metadata": {},
   "outputs": [
    {
     "data": {
      "image/png": "[encoded data removed]",
      "text/plain": [
       "<Figure size 432x288 with 1 Axes>"
      ]
     },
     "metadata": {
      "needs_background": "light"
     },
     "output_type": "display_data"
    }
   ],
   "source": [
    "plt.scatter(data.UraPN, data.VrednostAlkotesta, c =\"blue\")\n",
    "plt.xlabel(\"ura\")\n",
    "plt.ylabel(\"Vrednost alkotesta\");"
   ]
  },
  {
   "cell_type": "markdown",
   "id": "a7856831",
   "metadata": {},
   "source": [
    "iz grafa je razvidno da je količina prometnih nesreč v katerih so vlkjučeni vinjeni udeleženci ali povzročitelji bistveno večja med 15:00 in 1:00h. "
   ]
  },
  {
   "cell_type": "markdown",
   "id": "84fa77f3",
   "metadata": {},
   "source": [
    "raven povprečna raven alkohola v krvi gledena uro:"
   ]
  },
  {
   "cell_type": "code",
   "execution_count": 217,
   "id": "110a1038",
   "metadata": {},
   "outputs": [],
   "source": [
    "alko_ura=[]\n",
    "for i in range(24):\n",
    "    alko_ura.append(sum(data.VrednostAlkotesta[(data.UraPN>=i) & (data.UraPN<(i+1))])/sum((data.UraPN>=i) & (data.UraPN<(i+1))))"
   ]
  },
  {
   "cell_type": "code",
   "execution_count": 218,
   "id": "d163ca02",
   "metadata": {},
   "outputs": [
    {
     "data": {
      "image/png": "[encoded data removed]",
      "text/plain": [
       "<Figure size 432x288 with 1 Axes>"
      ]
     },
     "metadata": {
      "needs_background": "light"
     },
     "output_type": "display_data"
    }
   ],
   "source": [
    "plt.plot(range(0,24),alko_ura)\n",
    "plt.xlabel(\"ura\")\n",
    "plt.ylabel(\"Povprečna vrednost alkotesta\");"
   ]
  },
  {
   "cell_type": "markdown",
   "id": "1ad794f8",
   "metadata": {},
   "source": [
    "število udeležencev v prometni nesreči katerih raven alkohola v krvi presega zakonsko dovoljeno glede na uro"
   ]
  },
  {
   "cell_type": "code",
   "execution_count": 219,
   "id": "a7c71776",
   "metadata": {},
   "outputs": [],
   "source": [
    "alko_ura=[]\n",
    "for i in range(24):\n",
    "    alko_ura.append(sum(data.VrednostAlkotesta[(data.UraPN>=i) & (data.UraPN<(i+1))&(data.VrednostAlkotesta>0.24)]))"
   ]
  },
  {
   "cell_type": "code",
   "execution_count": 215,
   "id": "afddffc3",
   "metadata": {},
   "outputs": [
    {
     "data": {
      "image/png": "[encoded data removed]",
      "text/plain": [
       "<Figure size 432x288 with 1 Axes>"
      ]
     },
     "metadata": {
      "needs_background": "light"
     },
     "output_type": "display_data"
    }
   ],
   "source": [
    "plt.plot(range(0,24),alko_ura)\n",
    "plt.xlabel(\"ura\")\n",
    "plt.ylabel(\"število vinjenih oseb\");"
   ]
  },
  {
   "cell_type": "markdown",
   "id": "498757c5",
   "metadata": {},
   "source": [
    "povprečna vrednost alkotesta na upravno enoto"
   ]
  },
  {
   "cell_type": "code",
   "execution_count": 29,
   "id": "311fa146",
   "metadata": {},
   "outputs": [],
   "source": [
    "upravne_enote=data.UpravnaEnotaStoritve.unique()\n",
    "upravne_enote = upravne_enote[:-1]\n",
    "povprecna_alko_na_upravno=dict()\n",
    "for upravna in upravne_enote:\n",
    "    povprecna_alko_na_upravno[upravna]=(sum(data.VrednostAlkotesta[data.UpravnaEnotaStoritve==upravna])/sum(data.UpravnaEnotaStoritve==upravna))"
   ]
  },
  {
   "cell_type": "code",
   "execution_count": 31,
   "id": "6e23a85f",
   "metadata": {},
   "outputs": [
    {
     "name": "stdout",
     "output_type": "stream",
     "text": [
      "vrednostAlkotesta     UpravnaEnota\n",
      "0.009204545454545453: ZAGORJE OB SAVI\n",
      "0.010833333333333334: HRASTNIK\n",
      "0.013207126948775056: SLOVENSKE KONJICE\n",
      "0.014668094218415417: JESENICE\n",
      "0.018365180467091295: ŠENTJUR PRI CELJU\n",
      "0.021107142857142856: AJDOVŠÈINA\n",
      "0.02170780711825489: LJUBLJANA\n",
      "0.021741293532338304: RADLJE OB DRAVI\n",
      "0.021856287425149702: TOLMIN\n",
      "0.02268292682926829: LAŠKO\n",
      "0.022954545454545453: RUŠE\n",
      "0.023535564853556484: KRANJ\n",
      "0.025096660808435856: ŠMARJE PRI JELŠAH\n",
      "0.02666666666666667: VRHNIKA\n",
      "0.027649769585253458: CERKNICA\n",
      "0.028160919540229885: MARIBOR\n",
      "0.02838509316770186: TREBNJE\n",
      "0.02841509433962264: KAMNIK\n",
      "0.028491909385113257: CELJE\n",
      "0.029071661237785023: RADOVLJICA\n",
      "0.029401515151515154: PTUJ\n",
      "0.030325203252032522: ILIRSKA BISTRICA\n",
      "0.03078717201166181: SLOVENJ GRADEC\n",
      "0.030860995850622408: DOMŽALE\n",
      "0.031140350877192982: KOÈEVJE\n",
      "0.03195075757575757: VELENJE\n",
      "0.03198473282442748: POSTOJNA\n",
      "0.03276767676767676: KOPER\n",
      "0.03293650793650794: SEŽANA\n",
      "0.0333587786259542: DRAVOGRAD\n",
      "0.03385892116182573: LITIJA\n",
      "0.03443438914027149: SEVNICA\n",
      "0.034645669291338575: RIBNICA\n",
      "0.034742424242424234: SLOVENSKA BISTRICA\n",
      "0.035: ŠKOFJA LOKA\n",
      "0.03519654841802494: NOVO MESTO\n",
      "0.03595375722543352: GROSUPLJE\n",
      "0.03613333333333333: TRBOVLJE\n",
      "0.03798561151079137: IDRIJA\n",
      "0.03828703703703704: ORMOŽ\n",
      "0.04: BREŽICE\n",
      "0.04151857835218094: ŽALEC\n",
      "0.04153225806451613: TRŽIÈ\n",
      "0.0419327731092437: LJUTOMER\n",
      "0.04204633204633205: RAVNE NA KOROŠKEM\n",
      "0.04244224422442244: KRŠKO\n",
      "0.04411764705882354: LOGATEC\n",
      "0.04590751445086706: NOVA GORICA\n",
      "0.04786833855799373: LENART\n",
      "0.04882352941176471: IZOLA\n",
      "0.05134502923976609: PIRAN\n",
      "0.05695312499999999: METLIKA\n",
      "0.05933161953727507: PESNICA\n",
      "0.061843575418994406: MURSKA SOBOTA\n",
      "0.0641025641025641: ÈRNOMELJ\n",
      "0.07266666666666666: GORNJA RADGONA\n",
      "0.07273148148148148: LENDAVA\n",
      "0.08227642276422764: MOZIRJE\n"
     ]
    }
   ],
   "source": [
    "mean_rat_sorted=sorted((alko, obcina) for obcina, alko in sorted(povprecna_alko_na_upravno.items()))\n",
    "print(\"vrednostAlkotesta     UpravnaEnota\" )\n",
    "for alkotest, upravna in mean_rat_sorted:\n",
    "    print(str(alkotest) + \": \" +upravna)"
   ]
  },
  {
   "cell_type": "markdown",
   "id": "257e2549",
   "metadata": {},
   "source": [
    "povprečna št vinjenih na upravno"
   ]
  },
  {
   "cell_type": "code",
   "execution_count": 46,
   "id": "3e4f71c7",
   "metadata": {},
   "outputs": [],
   "source": [
    "upravne_enote=data.UpravnaEnotaStoritve.unique()\n",
    "upravne_enote = upravne_enote[:-1]\n",
    "povprecna_vinjenih_na_upravno=dict()\n",
    "for upravna in upravne_enote:\n",
    "    povprecna_vinjenih_na_upravno[upravna]=sum((data.UpravnaEnotaStoritve==upravna)&(data.VrednostAlkotesta>=0.10))/sum(data.UpravnaEnotaStoritve==upravna)"
   ]
  },
  {
   "cell_type": "code",
   "execution_count": 47,
   "id": "ca3d81d1",
   "metadata": {},
   "outputs": [
    {
     "name": "stdout",
     "output_type": "stream",
     "text": [
      "povprečno št vinjenih     UpravnaEnota\n",
      "0.011363636363636364: ZAGORJE OB SAVI\n",
      "0.016666666666666666: HRASTNIK\n",
      "0.028953229398663696: SLOVENSKE KONJICE\n",
      "0.029978586723768737: JESENICE\n",
      "0.03409090909090909: RUŠE\n",
      "0.03482587064676617: RADLJE OB DRAVI\n",
      "0.03592814371257485: TOLMIN\n",
      "0.03632478632478633: VRHNIKA\n",
      "0.036585365853658534: LAŠKO\n",
      "0.03673938002296211: LJUBLJANA\n",
      "0.038354253835425386: KRANJ\n",
      "0.040339702760084924: ŠENTJUR PRI CELJU\n",
      "0.040421792618629174: ŠMARJE PRI JELŠAH\n",
      "0.04285714285714286: AJDOVŠÈINA\n",
      "0.04318181818181818: PTUJ\n",
      "0.044252873563218394: MARIBOR\n",
      "0.04524886877828054: SEVNICA\n",
      "0.04608294930875576: CERKNICA\n",
      "0.046583850931677016: TREBNJE\n",
      "0.04666666666666667: TRBOVLJE\n",
      "0.04716981132075472: KAMNIK\n",
      "0.04789644012944984: CELJE\n",
      "0.04878048780487805: ILIRSKA BISTRICA\n",
      "0.048859934853420196: RADOVLJICA\n",
      "0.05042016806722689: LJUTOMER\n",
      "0.05202312138728324: GROSUPLJE\n",
      "0.052904564315352696: DOMŽALE\n",
      "0.05343511450381679: DRAVOGRAD\n",
      "0.05343511450381679: POSTOJNA\n",
      "0.05454545454545454: KOPER\n",
      "0.05454545454545454: SLOVENSKA BISTRICA\n",
      "0.054924242424242424: VELENJE\n",
      "0.05511811023622047: RIBNICA\n",
      "0.05555555555555555: SEŽANA\n",
      "0.058091286307053944: ŠKOFJA LOKA\n",
      "0.058823529411764705: LOGATEC\n",
      "0.061224489795918366: SLOVENJ GRADEC\n",
      "0.061389337641357025: ŽALEC\n",
      "0.06140350877192982: KOÈEVJE\n",
      "0.06177606177606178: RAVNE NA KOROŠKEM\n",
      "0.06327900287631831: NOVO MESTO\n",
      "0.06474820143884892: IDRIJA\n",
      "0.06481481481481481: ORMOŽ\n",
      "0.06614785992217899: BREŽICE\n",
      "0.06896551724137931: LENART\n",
      "0.07167630057803469: NOVA GORICA\n",
      "0.07258064516129033: TRŽIÈ\n",
      "0.07260726072607261: KRŠKO\n",
      "0.07309941520467836: PIRAN\n",
      "0.07450980392156863: IZOLA\n",
      "0.07468879668049792: LITIJA\n",
      "0.08740359897172237: PESNICA\n",
      "0.09259259259259259: LENDAVA\n",
      "0.0935754189944134: MURSKA SOBOTA\n",
      "0.09375: METLIKA\n",
      "0.09743589743589744: ÈRNOMELJ\n",
      "0.11382113821138211: MOZIRJE\n",
      "0.11428571428571428: GORNJA RADGONA\n"
     ]
    }
   ],
   "source": [
    "mean_rat_sorted=sorted((alko, obcina) for obcina, alko in sorted(povprecna_vinjenih_na_upravno.items()))\n",
    "print(\"povprečno št vinjenih     UpravnaEnota\" )\n",
    "for alkotest, upravna in mean_rat_sorted:\n",
    "    print(str(alkotest) + \": \" +upravna)"
   ]
  },
  {
   "cell_type": "markdown",
   "id": "f556bbfd",
   "metadata": {},
   "source": [
    "vidimo da število vinjenih povezano z povprečno vsebovanost alkohola na upravno iz tega lahko sklepamo da zaradi tega povprečna vsebovanost alkohola ni pravilna in jo ponovno izračunamo samo za vinjene voznike"
   ]
  },
  {
   "cell_type": "code",
   "execution_count": 44,
   "id": "99098adb",
   "metadata": {},
   "outputs": [],
   "source": [
    "upravne_enote=data.UpravnaEnotaStoritve.unique()\n",
    "upravne_enote = upravne_enote[:-1]\n",
    "povprecna_alko_na_upravno_vinjenih=dict()\n",
    "for upravna in upravne_enote:\n",
    "    povprecna_alko_na_upravno_vinjenih[upravna]=(sum(data.VrednostAlkotesta[(data.UpravnaEnotaStoritve==upravna)&(data.VrednostAlkotesta>=0.10)])/sum((data.UpravnaEnotaStoritve==upravna)&(data.VrednostAlkotesta>=0.10)))"
   ]
  },
  {
   "cell_type": "code",
   "execution_count": 45,
   "id": "0f600789",
   "metadata": {},
   "outputs": [
    {
     "name": "stdout",
     "output_type": "stream",
     "text": [
      "vrednostAlkotesta     UpravnaEnota\n",
      "0.43230769230769234: SLOVENSKE KONJICE\n",
      "0.448421052631579: ŠENTJUR PRI CELJU\n",
      "0.4488888888888889: LITIJA\n",
      "0.48499999999999993: AJDOVŠÈINA\n",
      "0.48928571428571427: JESENICE\n",
      "0.500952380952381: SLOVENJ GRADEC\n",
      "0.5071428571428571: KOÈEVJE\n",
      "0.547727272727273: NOVO MESTO\n",
      "0.5666666666666669: TRŽIÈ\n",
      "0.5715686274509804: DOMŽALE\n",
      "0.5755555555555556: IDRIJA\n",
      "0.5804545454545454: KRŠKO\n",
      "0.5806896551724138: VELENJE\n",
      "0.5814285714285714: SEŽANA\n",
      "0.5847656250000001: LJUBLJANA\n",
      "0.5862162162162161: CELJE\n",
      "0.5876666666666668: RADOVLJICA\n",
      "0.5905555555555555: KOPER\n",
      "0.5907142857142859: ORMOŽ\n",
      "0.5916666666666667: TOLMIN\n",
      "0.5966666666666666: POSTOJNA\n",
      "0.5966666666666667: LAŠKO\n",
      "0.5972000000000001: KAMNIK\n",
      "0.5979999999999999: CERKNICA\n",
      "0.5993333333333334: TREBNJE\n",
      "0.6008333333333332: METLIKA\n",
      "0.6010714285714286: ŠKOFJA LOKA\n",
      "0.6029411764705882: BREŽICE\n",
      "0.6087272727272726: KRANJ\n",
      "0.61: RADLJE OB DRAVI\n",
      "0.6121739130434785: ŠMARJE PRI JELŠAH\n",
      "0.62: DRAVOGRAD\n",
      "0.6216666666666667: ILIRSKA BISTRICA\n",
      "0.6269444444444443: SLOVENSKA BISTRICA\n",
      "0.6279870129870128: MARIBOR\n",
      "0.6285714285714284: RIBNICA\n",
      "0.6299999999999999: GORNJA RADGONA\n",
      "0.6364516129032259: NOVA GORICA\n",
      "0.6405263157894737: IZOLA\n",
      "0.65: HRASTNIK\n",
      "0.6502985074626864: MURSKA SOBOTA\n",
      "0.653157894736842: ÈRNOMELJ\n",
      "0.6710526315789473: ŽALEC\n",
      "0.6721052631578947: PTUJ\n",
      "0.6733333333333333: RUŠE\n",
      "0.6741176470588236: PESNICA\n",
      "0.680625: RAVNE NA KOROŠKEM\n",
      "0.6841666666666667: GROSUPLJE\n",
      "0.69: LENART\n",
      "0.7000000000000002: PIRAN\n",
      "0.7185714285714286: MOZIRJE\n",
      "0.7270588235294118: VRHNIKA\n",
      "0.7500000000000001: LOGATEC\n",
      "0.761: SEVNICA\n",
      "0.7742857142857142: TRBOVLJE\n",
      "0.7799999999999999: ZAGORJE OB SAVI\n",
      "0.7855: LENDAVA\n",
      "0.8266666666666667: LJUTOMER\n"
     ]
    }
   ],
   "source": [
    "mean_rat_sorted=sorted((alko, obcina) for obcina, alko in sorted(povprecna_alko_na_upravno_vinjenih.items()))\n",
    "print(\"vrednostAlkotesta     UpravnaEnota\" )\n",
    "for alkotest, upravna in mean_rat_sorted:\n",
    "    print(str(alkotest) + \": \" +upravna)"
   ]
  },
  {
   "cell_type": "code",
   "execution_count": 4,
   "id": "32902e64",
   "metadata": {},
   "outputs": [],
   "source": [
    "data = pd.read_csv('./Podatki/pn2019.csv', delimiter=';', encoding='mbcs')\n",
    "data['VrednostAlkotesta']= data['VrednostAlkotesta'].str.replace(',','.')\n",
    "data['VrednostAlkotesta']= data['VrednostAlkotesta'].astype(float)"
   ]
  },
  {
   "cell_type": "code",
   "execution_count": 88,
   "id": "2317e0c1",
   "metadata": {},
   "outputs": [],
   "source": [
    "data = data[(data.VrednostAlkotesta<2.5)&(data.VrednostAlkotesta>=0)]\n",
    "avg_alco_starost = []\n",
    "for i in range(20):\n",
    "    avg_alco_starost.append(data.VrednostAlkotesta[(data.Starost<((i+1)*5))&(data.Starost>((i+1)*5-5))].mean())"
   ]
  },
  {
   "cell_type": "code",
   "execution_count": 89,
   "id": "80284d37",
   "metadata": {},
   "outputs": [
    {
     "data": {
      "image/png": "[encoded data removed]",
      "text/plain": [
       "<Figure size 432x288 with 1 Axes>"
      ]
     },
     "metadata": {
      "needs_background": "light"
     },
     "output_type": "display_data"
    }
   ],
   "source": [
    "plt.plot(range(1,101,5),avg_alco_starost)\n",
    "plt.xlabel(\"Starost\")\n",
    "plt.ylabel(\"Vrednost alkotesta\");"
   ]
  },
  {
   "cell_type": "markdown",
   "id": "92611222",
   "metadata": {},
   "source": [
    "iz grafa je razvidno je raven alkohola pri nesrečah v krvi največja med 18 in 25 letom starosti na kar drastično pade ter se začne ponovno vzpenjati vse do 60 leta starosti"
   ]
  },
  {
   "cell_type": "code",
   "execution_count": 7,
   "id": "b08c0251",
   "metadata": {},
   "outputs": [],
   "source": [
    "data['bins']=pd.cut(data.VrednostAlkotesta,bins=[-0.1,0.1,0.14,0.24,0.38,8.0],labels=[\"0-0.1\",\"0.1-0.14\",\"0.14-0.24\",\"0.24-0.38\",\"0.38-8\"])"
   ]
  },
  {
   "cell_type": "code",
   "execution_count": 6,
   "id": "27393120",
   "metadata": {},
   "outputs": [
    {
     "data": {
      "text/plain": [
       "7.74"
      ]
     },
     "execution_count": 6,
     "metadata": {},
     "output_type": "execute_result"
    }
   ],
   "source": [
    "max(data.VrednostAlkotesta)"
   ]
  },
  {
   "cell_type": "code",
   "execution_count": 8,
   "id": "3879b4f0",
   "metadata": {},
   "outputs": [
    {
     "data": {
      "text/plain": [
       "['0.14-0.24', '0-0.1', '0.38-8', '0.24-0.38', '0.1-0.14']\n",
       "Categories (5, object): ['0-0.1' < '0.1-0.14' < '0.14-0.24' < '0.24-0.38' < '0.38-8']"
      ]
     },
     "execution_count": 8,
     "metadata": {},
     "output_type": "execute_result"
    }
   ],
   "source": [
    "data.bins.unique()"
   ]
  },
  {
   "cell_type": "markdown",
   "id": "394fc710",
   "metadata": {},
   "source": [
    "spodaj so izračunani % koliko je verjetno da se zgodi nesreča klasifikacije x v določenem rasponu vrednosti alkotesta"
   ]
  },
  {
   "cell_type": "code",
   "execution_count": 10,
   "id": "ea54e87d",
   "metadata": {},
   "outputs": [
    {
     "name": "stdout",
     "output_type": "stream",
     "text": [
      "0-0.1:\n",
      "0.006745726166640998\n",
      "\n",
      "0.1-0.14:\n",
      "0.0\n",
      "\n",
      "0.14-0.24:\n",
      "0.0\n",
      "\n",
      "0.24-0.38:\n",
      "0.0\n",
      "\n",
      "0.38-8:\n",
      "0.0023847376788553257\n",
      "\n"
     ]
    }
   ],
   "source": [
    "for i, bins in enumerate([\"0-0.1\",\"0.1-0.14\",\"0.14-0.24\",\"0.24-0.38\",\"0.38-8\"]):\n",
    "    if(data[(data.bins==bins)].shape[0]==0):\n",
    "        continue\n",
    "    print(bins+\":\")\n",
    "    print(data[(data.bins==bins)&(data.KlasifikacijaNesrece=='S SMRTNIM IZIDOM')].shape[0]/data[(data.bins==bins)].shape[0])\n",
    "    print()"
   ]
  },
  {
   "cell_type": "code",
   "execution_count": 11,
   "id": "ab5892e6",
   "metadata": {},
   "outputs": [
    {
     "name": "stdout",
     "output_type": "stream",
     "text": [
      "0-0.1:\n",
      "0.04035114738949638\n",
      "\n",
      "0.1-0.14:\n",
      "0.08571428571428572\n",
      "\n",
      "0.14-0.24:\n",
      "0.08441558441558442\n",
      "\n",
      "0.24-0.38:\n",
      "0.03271028037383177\n",
      "\n",
      "0.38-8:\n",
      "0.05246422893481717\n",
      "\n"
     ]
    }
   ],
   "source": [
    "for i, bins in enumerate([\"0-0.1\",\"0.1-0.14\",\"0.14-0.24\",\"0.24-0.38\",\"0.38-8\"]):\n",
    "    if(data[(data.bins==bins)].shape[0]==0):\n",
    "        continue\n",
    "    print(bins+\":\")\n",
    "    print(data[(data.bins==bins)&(data.KlasifikacijaNesrece=='S HUDO TELESNO POŠKODBO')].shape[0]/data[(data.bins==bins)].shape[0])\n",
    "    print()"
   ]
  },
  {
   "cell_type": "code",
   "execution_count": 12,
   "id": "b4e9b9c0",
   "metadata": {
    "scrolled": true
   },
   "outputs": [
    {
     "name": "stdout",
     "output_type": "stream",
     "text": [
      "0-0.1:\n",
      "0.31125827814569534\n",
      "\n",
      "0.1-0.14:\n",
      "0.35714285714285715\n",
      "\n",
      "0.14-0.24:\n",
      "0.36363636363636365\n",
      "\n",
      "0.24-0.38:\n",
      "0.27102803738317754\n",
      "\n",
      "0.38-8:\n",
      "0.30286168521462636\n",
      "\n"
     ]
    }
   ],
   "source": [
    "for i, bins in enumerate([\"0-0.1\",\"0.1-0.14\",\"0.14-0.24\",\"0.24-0.38\",\"0.38-8\"]):\n",
    "    if(data[(data.bins==bins)].shape[0]==0):\n",
    "        continue\n",
    "    print(bins+\":\")\n",
    "    print(data[(data.bins==bins)&(data.KlasifikacijaNesrece=='Z LAŽJO TELESNO POŠKODBO')].shape[0]/data[(data.bins==bins)].shape[0])\n",
    "    print()"
   ]
  },
  {
   "cell_type": "markdown",
   "id": "cf12fba5",
   "metadata": {},
   "source": [
    "0.2-0.3:\n",
    "Poslabša se sposobnost opazovanja premikajočih se luči\n",
    "\n",
    "0.3-0.5:\n",
    "Poslabša se sposobnost globinskega opazovanja in s tem pravilne\n",
    "izbire varnostne razdalje. Zmanjša se kritičnost do lastnega ravnanja in\n",
    "samokontrola. Poveča se pripravljenost za tveganje, lahko tudi\n",
    "agresivnost.\n",
    "\n",
    "0.5-0.8:\n",
    "Pojavi se rdeča slepota (slabša zaznava rdeče luči na semaforju in\n",
    "zavornih luči),\n",
    "Zmanjšuje se sposobnost hitrega preusmerjanja pogleda z enega\n",
    "predmeta na drugega,\n",
    "Pridobi se občutek, da so predmeti bolj oddaljeni, kot so v resnici,\n",
    "Podaljša se reakcijski čas,\n",
    "Pojavijo se motnje ravnotežja,\n",
    "Pojavijo se napačne ocene hitrosti vozil,\n",
    "Voznik se vedno težje prilagaja naglim svetlobnim spremembam.\n",
    "Večina ljudi pri doseženi stopnji 0,5 g/kg ne zmore odločitve, da ne bo\n",
    "popila ničesar več.\n",
    "\n",
    "več od 0.8:\n",
    "Bistveno se poslabša možnost koncentracije\n",
    "Do 25% se zmanjša ostrina vida\n",
    "Pojavi se oženje vidnega polja in t. i. tunelski vid,\n",
    "Reakcijski čas se podaljša za 35-50%,\n",
    "Pojavi se stanje evforije\n",
    "Voznik se ne kontrolira več in precenjuje svoje sposobnosti\n",
    "Bistveno se poslabšajo zmožnosti prostorske zaznave in ocene\n",
    "oddaljenosti vozil in predmetov, ki se približujejo\n",
    "Voznik ne more več usmerjati pogleda"
   ]
  },
  {
   "cell_type": "code",
   "execution_count": 14,
   "id": "0a47217e",
   "metadata": {},
   "outputs": [],
   "source": [
    "povz = data[data.Povzrocitelj == 'POVZROÈITELJ']\n",
    "ude = data[data.Povzrocitelj == 'UDELEŽENEC']"
   ]
  },
  {
   "cell_type": "code",
   "execution_count": 16,
   "id": "4b3b0b5f",
   "metadata": {},
   "outputs": [
    {
     "name": "stdout",
     "output_type": "stream",
     "text": [
      "0-0.1:\n",
      "0.044753615242272636\n",
      "\n",
      "0.1-0.14:\n",
      "0.13157894736842105\n",
      "\n",
      "0.14-0.24:\n",
      "0.07563025210084033\n",
      "\n",
      "0.24-0.38:\n",
      "0.023668639053254437\n",
      "\n",
      "0.38-8:\n",
      "0.04633529907329402\n",
      "\n"
     ]
    }
   ],
   "source": [
    "for i, bins in enumerate([\"0-0.1\",\"0.1-0.14\",\"0.14-0.24\",\"0.24-0.38\",\"0.38-8\"]):\n",
    "    if(povz[(povz.bins==bins)].shape[0]==0):\n",
    "        continue\n",
    "    print(bins+\":\")\n",
    "    print(povz[(povz.bins==bins)&(povz.KlasifikacijaNesrece=='S HUDO TELESNO POŠKODBO')].shape[0]/povz[(povz.bins==bins)].shape[0])\n",
    "    print()"
   ]
  },
  {
   "cell_type": "code",
   "execution_count": 17,
   "id": "047d96ad",
   "metadata": {},
   "outputs": [
    {
     "name": "stdout",
     "output_type": "stream",
     "text": [
      "0-0.1:\n",
      "0.036874648679033166\n",
      "\n",
      "0.1-0.14:\n",
      "0.03125\n",
      "\n",
      "0.14-0.24:\n",
      "0.11428571428571428\n",
      "\n",
      "0.24-0.38:\n",
      "0.06666666666666667\n",
      "\n",
      "0.38-8:\n",
      "0.15492957746478872\n",
      "\n"
     ]
    }
   ],
   "source": [
    "for i, bins in enumerate([\"0-0.1\",\"0.1-0.14\",\"0.14-0.24\",\"0.24-0.38\",\"0.38-8\"]):\n",
    "    if(ude[(ude.bins==bins)].shape[0]==0):\n",
    "        continue\n",
    "    print(bins+\":\")\n",
    "    print(ude[(ude.bins==bins)&(ude.KlasifikacijaNesrece=='S HUDO TELESNO POŠKODBO')].shape[0]/ude[(ude.bins==bins)].shape[0])\n",
    "    print()"
   ]
  }
 ],
 "metadata": {
  "kernelspec": {
   "display_name": "Python 3 (ipykernel)",
   "language": "python",
   "name": "python3"
  },
  "language_info": {
   "codemirror_mode": {
    "name": "ipython",
    "version": 3
   },
   "file_extension": ".py",
   "mimetype": "text/x-python",
   "name": "python",
   "nbconvert_exporter": "python",
   "pygments_lexer": "ipython3",
   "version": "3.9.7"
  },
  "varInspector": {
   "cols": {
    "lenName": 16,
    "lenType": 16,
    "lenVar": 40
   },
   "kernels_config": {
    "python": {
     "delete_cmd_postfix": "",
     "delete_cmd_prefix": "del ",
     "library": "var_list.py",
     "varRefreshCmd": "print(var_dic_list())"
    },
    "r": {
     "delete_cmd_postfix": ") ",
     "delete_cmd_prefix": "rm(",
     "library": "var_list.r",
     "varRefreshCmd": "cat(var_dic_list()) "
    }
   },
   "types_to_exclude": [
    "module",
    "function",
    "builtin_function_or_method",
    "instance",
    "_Feature"
   ],
   "window_display": false
  }
 },
 "nbformat": 4,
 "nbformat_minor": 5
}
