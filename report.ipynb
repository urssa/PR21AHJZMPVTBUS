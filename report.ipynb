{
 "cells": [
  {
   "cell_type": "markdown",
   "id": "46dade50",
   "metadata": {},
   "source": [
    "# Profil voznikov\n",
    "\n",
    "\n",
    "Profil voznikov, ki povzročajo prometne nesreče smo poskusili konstruirati iz smiselnih atributov, ki opisujejo voznika. Z analizami smo dobili naslednji profil voznika: mlad moški, star okrog 20 let, z malo vozniškimi izkušnjami oziroma brez izpita, vinjen. \n",
    "Profil izhaja iz atributov, ki povečajo verjetnost, da je voznik povzročitelj nesreče. Npr.: vozniki brez izpita oziroma z malo izkušnjami zagrešijo mnogo več nesreč, medtem ko tuje državljanstvo ne vpliva. Pri tem velja opomba, da povečana verjetnost pomeni primerjavo med povzročitelji in udeleženci.\n",
    "\n",
    "# Spol\n",
    "\n",
    "![download.png](attachment:download.png) ![download-2.png](attachment:download-2.png)\n",
    "\n",
    "Iz grafov zgoraj, ki nam prikazujeta delež povzročiteljev/udeležencev v nesrečah po spolu, se jasno vidi, da so moški v večjem deležu povzročitelji kot ženske.\n",
    "\n",
    "![download-3.png](attachment:download-3.png)\n",
    "\n",
    "Graf zgoraj prikazuje število nesreč, ki povzročijo vozniki v starostnih skupinah po 5 let. Iz grafa se razbere korelacija, da z leti število nesreč pada. Najvišjo stopnjo nesreč imajo vozniki  stari okrog 20 let.\n",
    "\n",
    "![download-4.png](attachment:download-4.png)\n",
    "\n",
    "Analizirali smo tudi vozniški staž, ki nam pove enako zgodbo kot leta, da vozniki z več izkušnjami vozijo bolj varno.\n",
    "\n",
    "![download-5.png](attachment:download-5.png)\n",
    "\n",
    "Vinjenost nepresenetljivo zelo negativno vpliva na varnost vožnje. Delež vinjenih voznikov je neprimerljivo vižji pri povzročiteljih.\n",
    "\n",
    "![download-6.png](attachment:download-6.png)\n",
    "\n",
    "Državljanstvo ni imelo nobenega vpliva pri naši analizi, kar je tudi smiselno. Rahla odstopanja bi lahko opisali z dejstvom, da tujci niso navajeni našegega prometa in ne poznajo cest, vendar očitno to ne igra pomembne vloge."
   ]
  }
 ],
 "metadata": {
  "kernelspec": {
   "display_name": "Python 3 (ipykernel)",
   "language": "python",
   "name": "python3"
  },
  "language_info": {
   "codemirror_mode": {
    "name": "ipython",
    "version": 3
   },
   "file_extension": ".py",
   "mimetype": "text/x-python",
   "name": "python",
   "nbconvert_exporter": "python",
   "pygments_lexer": "ipython3",
   "version": "3.8.3"
  }
 },
 "nbformat": 4,
 "nbformat_minor": 5
}
