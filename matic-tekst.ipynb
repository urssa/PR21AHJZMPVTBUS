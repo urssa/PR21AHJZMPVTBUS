{
 "cells": [
  {
   "cell_type": "markdown",
   "id": "dbf22e57",
   "metadata": {},
   "source": [
    "Relacije med okoliščinami prometne nesreče in stopnjo poškodb udeležencev\n",
    "Ugotovitve\n",
    "\n",
    "Zanimalo nas je kateri atributi najbolj vplivajo na poškodbe udeležencev v prometni nesreči. Ker imamo veliko atributov smo si pomagali z algoritmom relief za ocenjevanje atributov.\n",
    "\n",
    "Relief je najbolje ocenil sledeče:\n",
    "\n",
    "·        Uro kdaj se je zgodila prometna nesreča\n",
    "\n",
    "·        Starost udeleženca v prometni nesreči\n",
    "\n",
    "·        Odsek ulice kjer se je zgodila prometna nesreča\n",
    "\n",
    "·        Tip nesreče\n",
    "\n",
    "·        Stalno prebivališče\n",
    "\n",
    "·        Vozniški staž udeleženca\n",
    "\n",
    "Za te atribute smo hoteli ugotoviti ob katerih vrednostih pride do določene stopnje poškodbe, in ali imajo ti atributi tudi kakšne relacije med drugim slabše ocenjenimi atributi.\n",
    "\n",
    "\n",
    "Izkazalo se je, da udeleženci med 20 in 30 letom utrpijo več lažjih poškodb kot udeleženci nad 30 let. Vzrok za to , da utrpijo več poškodb je, da imajo udeleženci med 20 in 30 letom manj izkušenj.\n",
    "\n",
    <img src=\"./grafi/mGraf1.png\" />\n",
    "\n",
    "Udeleženci z manjšo količino izkušenj utrpijo, hujše poškodbe kot udeleženci z več izkušenj. Zaradi tega lahko sklepamo, da starejši vozniki utrpijo manj poškodb v prometnih nesrečah.\n",
    "\n",
    "![title](.\\grafi\\index2.png)\n",
    " \n",
    "Starejši udeleženci imajo običajno hujše poškodbe kot mlajši udeleženci,  kljub temu pa je število mrtvih pri starejših manjše kot pri mlajših voznikih.\n",
    "\n",
    "\n",
    "Udeleženci, ki so bili krivi za prometno nesrečo običajno prejmejo bistveno hujše poškodbe kot udeleženci, ki so bili zgolj vpleteni v nesrečo.\n",
    "\n",
    "\n",
    "Odkrili smo tudi to, da je pri bolj redkem prometu  več udeležencev, ki so imeli hujše poškodbe kot pa pri normalnem prometu.\n",
    "\n",
    " \n",
    "Udeleženci, ki so v vozilu uporabljali varnostne pasove so večinoma prejeli lažje poškodbe, med tem ko udeleženci, ki niso bili pripeti so imeli več hujši poškodb. Prav tako se je izkazalo, da je zelo majhno število mladih udeležencev, ki ne uporabljajo varnostnega pasu v primerjavi s starejšimi vozniki, ki ga ne uporabljajo."
   ]
  },
  {
   "cell_type": "code",
   "execution_count": null,
   "id": "1f03ad65",
   "metadata": {},
   "outputs": [],
   "source": []
  }
 ],
 "metadata": {
  "kernelspec": {
   "display_name": "Python 3 (ipykernel)",
   "language": "python",
   "name": "python3"
  },
  "language_info": {
   "codemirror_mode": {
    "name": "ipython",
    "version": 3
   },
   "file_extension": ".py",
   "mimetype": "text/x-python",
   "name": "python",
   "nbconvert_exporter": "python",
   "pygments_lexer": "ipython3",
   "version": "3.9.7"
  },
  "latex_envs": {
   "LaTeX_envs_menu_present": true,
   "autoclose": false,
   "autocomplete": true,
   "bibliofile": "biblio.bib",
   "cite_by": "apalike",
   "current_citInitial": 1,
   "eqLabelWithNumbers": true,
   "eqNumInitial": 1,
   "hotkeys": {
    "equation": "Ctrl-E",
    "itemize": "Ctrl-I"
   },
   "labels_anchors": false,
   "latex_user_defs": false,
   "report_style_numbering": false,
   "user_envs_cfg": false
  },
  "nbTranslate": {
   "displayLangs": [
    "*"
   ],
   "hotkey": "alt-t",
   "langInMainMenu": true,
   "sourceLang": "en",
   "targetLang": "fr",
   "useGoogleTranslate": true
  }
 },
 "nbformat": 4,
 "nbformat_minor": 5
}
