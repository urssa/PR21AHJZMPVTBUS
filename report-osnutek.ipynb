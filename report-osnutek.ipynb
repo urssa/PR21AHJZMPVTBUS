{
 "cells": [
  {
   "cell_type": "markdown",
   "id": "cd3ec0b5",
   "metadata": {},
   "source": [
    "# Osnutek reporta"
   ]
  },
  {
   "cell_type": "markdown",
   "id": "b2d57b89",
   "metadata": {},
   "source": [
    "\n",
    "\n",
    "#  Filtriranje podatkov, procesiranje\n",
    "\n",
    "\n",
    "Deleži manjkajočih, pomankljivih atributov:\n",
    "    Koordinate 2.67%\n",
    "    Starost  0.04%\n",
    "    Brez izpita 25.32%%\n",
    "Koordinate, Starost -> vrednosti s  so bile odstranjene, saj je delež zelo majhen. \n",
    "\n",
    "Vozniški staž je podan kot dva ločena atributa, v letih in v mesecih, zato ju je bilo potrebno ustrezno kombinirati v nov bolj uporaben atribut.\n",
    "\n",
    "Ura nesreče je shranjena kot niz, za pretvorbo smo vzeli samo uro, saj točen čas ni bistvenega pomena za naše analize.\n",
    "\n",
    "\n",
    "# Razmere ob katerih največkrat pride do prometnih nesreč\n",
    "\n",
    "\n",
    "\n",
    "# Profil voznika povzročiteljev prometnih nesreč\n",
    "\n",
    "\n",
    "\n",
    "# Pogoste pojavitve prometnih nesreč po posameznih krajih in mesecih\n",
    "\n",
    "\n",
    "\n",
    "# Relacije med okoliščinami prometne nesreče in stopnjo poškodb udeležencev\n",
    "\n",
    "\n"
   ]
  },
  {
   "cell_type": "code",
   "execution_count": null,
   "id": "c5ce0fcb",
   "metadata": {},
   "outputs": [],
   "source": []
  }
 ],
 "metadata": {
  "kernelspec": {
   "display_name": "Python 3 (ipykernel)",
   "language": "python",
   "name": "python3"
  },
  "language_info": {
   "codemirror_mode": {
    "name": "ipython",
    "version": 3
   },
   "file_extension": ".py",
   "mimetype": "text/x-python",
   "name": "python",
   "nbconvert_exporter": "python",
   "pygments_lexer": "ipython3",
   "version": "3.8.3"
  }
 },
 "nbformat": 4,
 "nbformat_minor": 5
}
