{
 "cells": [
  {
   "cell_type": "code",
   "execution_count": 439,
   "id": "68e58200",
   "metadata": {},
   "outputs": [],
   "source": [
    "import pandas as pd\n",
    "#from ReliefF import ReliefF\n",
    "import sklearn_relief as relieff\n",
    "import numpy as np\n",
    "import matplotlib.pyplot as plt"
   ]
  },
  {
   "cell_type": "markdown",
   "id": "dfe0edb2",
   "metadata": {},
   "source": [
    "Večino spodnjega je obdelava za relif, ker sem poskušal najti najboljše atribute za predvidevanje nesreč"
   ]
  },
  {
   "cell_type": "code",
   "execution_count": 440,
   "id": "c163862a",
   "metadata": {},
   "outputs": [],
   "source": [
    "data20 = pd.read_csv('./Podatki/pn2020.csv', delimiter=';', encoding='mbcs',  parse_dates=['DatumPN'] ,dayfirst=True)\n",
    "data19= pd.read_csv('./Podatki/pn2019.csv', delimiter=';', encoding='mbcs',  parse_dates=['DatumPN'] ,dayfirst=True)\n",
    "#odkomenteri za boljše rezultated od relif-a\n",
    "# data18= pd.read_csv('./Podatki/pn2018.csv', delimiter=';', encoding='mbcs',  parse_dates=['DatumPN'] ,dayfirst=True)\n",
    "# data17= pd.read_csv('./Podatki/pn2017.csv', delimiter=';', encoding='mbcs',  parse_dates=['DatumPN'] ,dayfirst=True)\n",
    "# data16= pd.read_csv('./Podatki/pn2016.csv', delimiter=';', encoding='mbcs',  parse_dates=['DatumPN'] ,dayfirst=True)\n",
    "# data15= pd.read_csv('./Podatki/pn2015.csv', delimiter=';', encoding='mbcs',  parse_dates=['DatumPN'] ,dayfirst=True)\n",
    "# data14= pd.read_csv('./Podatki/pn2014.csv', delimiter=';', encoding='mbcs',  parse_dates=['DatumPN'] ,dayfirst=True)\n",
    "# data13= pd.read_csv('./Podatki/pn2013.csv', delimiter=';', encoding='mbcs',  parse_dates=['DatumPN'] ,dayfirst=True)\n",
    "# data12= pd.read_csv('./Podatki/pn2012.csv', delimiter=';', encoding='mbcs',  parse_dates=['DatumPN'] ,dayfirst=True)\n",
    "# data11= pd.read_csv('./Podatki/pn2011.csv', delimiter=';', encoding='mbcs',  parse_dates=['DatumPN'] ,dayfirst=True)\n",
    "# data10= pd.read_csv('./Podatki/pn2010.csv', delimiter=';', encoding='mbcs',  parse_dates=['DatumPN'] ,dayfirst=True)\n",
    "# data9= pd.read_csv('./Podatki/pn2009.csv', delimiter=';', encoding='mbcs',  parse_dates=['DatumPN'] ,dayfirst=True)\n",
    "#data = pd.concat([data20,data19,data18,data17,data16,data15,data14,data13,data12,data11,data10,data9])\n",
    "data = pd.concat([data20,data19])\n",
    "clean_data=data"
   ]
  },
  {
   "cell_type": "code",
   "execution_count": 441,
   "id": "11ffe884",
   "metadata": {},
   "outputs": [],
   "source": [
    "data.pop(\"ZaporednaStevilkaPN\")\n",
    "#data.pop(\"UraPN\")\n",
    "data['UraPN']=data['UraPN'].astype(\"string\")\n",
    "data['UraPN']=data.UraPN.str.split(\".\").str[0].astype('int')\n",
    "data['DatumPN'] = pd.DatetimeIndex(data['DatumPN']).month"
   ]
  },
  {
   "cell_type": "markdown",
   "id": "af278f6b",
   "metadata": {},
   "source": [
    "Podatki za katere hočemo izvedeti kako vplivajo osatli atributi"
   ]
  },
  {
   "cell_type": "code",
   "execution_count": 442,
   "id": "b76a5df7",
   "metadata": {},
   "outputs": [
    {
     "data": {
      "text/plain": [
       "0        394895\n",
       "1        525311\n",
       "2        525311\n",
       "3        500711\n",
       "4        500711\n",
       "          ...  \n",
       "34156    400949\n",
       "34157    400949\n",
       "34158    488765\n",
       "34159    488765\n",
       "34160    488765\n",
       "Name: GeoKoordinataY, Length: 60234, dtype: int64"
      ]
     },
     "execution_count": 442,
     "metadata": {},
     "output_type": "execute_result"
    }
   ],
   "source": [
    "data[\"PoskodbaUdelezenca\"]=data.PoskodbaUdelezenca.astype('category').cat.codes\n",
    "# data.pop(\"PoskodbaUdelezenca\")\n",
    "data.pop(\"KlasifikacijaNesrece\")\n",
    "data.pop(\"GeoKoordinataX\")\n",
    "#data.pop(\"GeoKoordinataY\")\n",
    "#odkomentiraj, če želiš, da odstrani nan vrednosti\n",
    "data. dropna()\n",
    "data.pop(\"ZaporednaStevilkaOsebeVPN\")\n",
    "data.pop(\"GeoKoordinataY\")"
   ]
  },
  {
   "cell_type": "markdown",
   "id": "6a796e4a",
   "metadata": {},
   "source": [
    "Obedlava vseh atributov, ki jih hočemo v številkah"
   ]
  },
  {
   "cell_type": "code",
   "execution_count": 443,
   "id": "6aa4e7ab",
   "metadata": {},
   "outputs": [
    {
     "data": {
      "text/plain": [
       "0         8\n",
       "1        12\n",
       "2         0\n",
       "3        16\n",
       "4        54\n",
       "         ..\n",
       "34156     6\n",
       "34157     0\n",
       "34158     3\n",
       "34159     0\n",
       "34160    37\n",
       "Name: VozniskiStazVLetih, Length: 60234, dtype: int64"
      ]
     },
     "execution_count": 443,
     "metadata": {},
     "output_type": "execute_result"
    }
   ],
   "source": [
    "data['UporabaVarnostnegaPasu']=data.UporabaVarnostnegaPasu.astype('category').cat.codes\n",
    "data['VrstaUdelezenca']=data.VrstaUdelezenca.astype('category').cat.codes\n",
    "data['UEStalnegaPrebivalisca']=data.UEStalnegaPrebivalisca.astype('category').cat.codes\n",
    "data['Spol']=data.Spol.astype('category').cat.codes\n",
    "data['Drzavljanstvo']=data.Drzavljanstvo.astype('category').cat.codes\n",
    "data['TekstCesteNaselja']=data.TekstCesteNaselja.astype('category').cat.codes\n",
    "data['VrstaCesteNaselja']=data.VrstaCesteNaselja.astype('category').cat.codes\n",
    "data['Lokacija']=data.Lokacija.astype('category').cat.codes\n",
    "data['VNaselju']=data.VNaselju.astype('category').cat.codes\n",
    "data['DatumPN']=data.DatumPN.astype('category').cat.codes\n",
    "data['SifraCesteNaselja']=data.SifraCesteNaselja.astype('category').cat.codes\n",
    "data['TekstCesteNaselja']=data.TekstCesteNaselja.astype('category').cat.codes\n",
    "data['TekstOdsekaUlice']=data.TekstOdsekaUlice.astype('category').cat.codes\n",
    "data['SifraCesteNaselja']=data.SifraCesteNaselja.astype('category').cat.codes\n",
    "data['SifraOdsekaUlice']=data.SifraOdsekaUlice.astype('category').cat.codes\n",
    "data['UpravnaEnotaStoritve']=data.UpravnaEnotaStoritve.astype('category').cat.codes\n",
    "data['VzrokNesrece']=data.VzrokNesrece.astype('category').cat.codes\n",
    "data['OpisKraja']=data.OpisKraja.astype('category').cat.codes\n",
    "data['TipNesrece']=data.TipNesrece.astype('category').cat.codes\n",
    "data['VremenskeOkoliscine']=data.VremenskeOkoliscine.astype('category').cat.codes\n",
    "data['StanjePrometa']=data.StanjePrometa.astype('category').cat.codes\n",
    "data['StanjeVozisca']=data.StanjeVozisca.astype('category').cat.codes\n",
    "data['VrstaVozisca']=data.VrstaVozisca.astype('category').cat.codes\n",
    "data['Povzrocitelj']=data.Povzrocitelj.astype('category').cat.codes\n",
    "data['StacionazaDogodka']=data.StacionazaDogodka.astype('category').cat.codes\n",
    "data['OpisKraja']=data.OpisKraja.astype('category').cat.codes\n",
    "data['VrednostAlkotesta']=data['VrednostAlkotesta'].str.replace(',','.')\n",
    "data['VrednostAlkotesta']=data['VrednostAlkotesta'].astype(float)\n",
    "data['VrednostStrokovnegaPregleda']=data['VrednostStrokovnegaPregleda'].str.replace(',','.')\n",
    "data['VrednostStrokovnegaPregleda']=data['VrednostStrokovnegaPregleda'].astype(float)\n",
    "data[\"VoznStazM\"] = data['VozniskiStazVLetih'] * 12 + data['VozniskiStazVMesecih']\n",
    "data.pop('VozniskiStazVMesecih')\n",
    "data.pop('VozniskiStazVLetih')"
   ]
  },
  {
   "cell_type": "code",
   "execution_count": 444,
   "id": "f5f11994",
   "metadata": {},
   "outputs": [
    {
     "data": {
      "text/html": [
       "<div>\n",
       "<style scoped>\n",
       "    .dataframe tbody tr th:only-of-type {\n",
       "        vertical-align: middle;\n",
       "    }\n",
       "\n",
       "    .dataframe tbody tr th {\n",
       "        vertical-align: top;\n",
       "    }\n",
       "\n",
       "    .dataframe thead th {\n",
       "        text-align: right;\n",
       "    }\n",
       "</style>\n",
       "<table border=\"1\" class=\"dataframe\">\n",
       "  <thead>\n",
       "    <tr style=\"text-align: right;\">\n",
       "      <th></th>\n",
       "      <th>UpravnaEnotaStoritve</th>\n",
       "      <th>DatumPN</th>\n",
       "      <th>UraPN</th>\n",
       "      <th>VNaselju</th>\n",
       "      <th>Lokacija</th>\n",
       "      <th>VrstaCesteNaselja</th>\n",
       "      <th>SifraCesteNaselja</th>\n",
       "      <th>TekstCesteNaselja</th>\n",
       "      <th>SifraOdsekaUlice</th>\n",
       "      <th>TekstOdsekaUlice</th>\n",
       "      <th>...</th>\n",
       "      <th>Starost</th>\n",
       "      <th>Spol</th>\n",
       "      <th>UEStalnegaPrebivalisca</th>\n",
       "      <th>Drzavljanstvo</th>\n",
       "      <th>PoskodbaUdelezenca</th>\n",
       "      <th>VrstaUdelezenca</th>\n",
       "      <th>UporabaVarnostnegaPasu</th>\n",
       "      <th>VrednostAlkotesta</th>\n",
       "      <th>VrednostStrokovnegaPregleda</th>\n",
       "      <th>VoznStazM</th>\n",
       "    </tr>\n",
       "  </thead>\n",
       "  <tbody>\n",
       "    <tr>\n",
       "      <th>0</th>\n",
       "      <td>29</td>\n",
       "      <td>1</td>\n",
       "      <td>20</td>\n",
       "      <td>0</td>\n",
       "      <td>1</td>\n",
       "      <td>6</td>\n",
       "      <td>1465</td>\n",
       "      <td>1607</td>\n",
       "      <td>35</td>\n",
       "      <td>2093</td>\n",
       "      <td>...</td>\n",
       "      <td>26</td>\n",
       "      <td>2</td>\n",
       "      <td>33</td>\n",
       "      <td>72</td>\n",
       "      <td>0</td>\n",
       "      <td>19</td>\n",
       "      <td>2</td>\n",
       "      <td>0.0</td>\n",
       "      <td>0.0</td>\n",
       "      <td>101</td>\n",
       "    </tr>\n",
       "    <tr>\n",
       "      <th>1</th>\n",
       "      <td>43</td>\n",
       "      <td>0</td>\n",
       "      <td>12</td>\n",
       "      <td>1</td>\n",
       "      <td>0</td>\n",
       "      <td>9</td>\n",
       "      <td>207</td>\n",
       "      <td>2194</td>\n",
       "      <td>979</td>\n",
       "      <td>1711</td>\n",
       "      <td>...</td>\n",
       "      <td>32</td>\n",
       "      <td>0</td>\n",
       "      <td>19</td>\n",
       "      <td>72</td>\n",
       "      <td>0</td>\n",
       "      <td>19</td>\n",
       "      <td>0</td>\n",
       "      <td>0.0</td>\n",
       "      <td>0.0</td>\n",
       "      <td>153</td>\n",
       "    </tr>\n",
       "    <tr>\n",
       "      <th>2</th>\n",
       "      <td>43</td>\n",
       "      <td>0</td>\n",
       "      <td>12</td>\n",
       "      <td>1</td>\n",
       "      <td>0</td>\n",
       "      <td>9</td>\n",
       "      <td>207</td>\n",
       "      <td>2194</td>\n",
       "      <td>979</td>\n",
       "      <td>1711</td>\n",
       "      <td>...</td>\n",
       "      <td>59</td>\n",
       "      <td>0</td>\n",
       "      <td>48</td>\n",
       "      <td>72</td>\n",
       "      <td>3</td>\n",
       "      <td>3</td>\n",
       "      <td>2</td>\n",
       "      <td>0.0</td>\n",
       "      <td>0.0</td>\n",
       "      <td>0</td>\n",
       "    </tr>\n",
       "    <tr>\n",
       "      <th>3</th>\n",
       "      <td>57</td>\n",
       "      <td>0</td>\n",
       "      <td>1</td>\n",
       "      <td>1</td>\n",
       "      <td>0</td>\n",
       "      <td>7</td>\n",
       "      <td>53</td>\n",
       "      <td>1492</td>\n",
       "      <td>826</td>\n",
       "      <td>2398</td>\n",
       "      <td>...</td>\n",
       "      <td>38</td>\n",
       "      <td>0</td>\n",
       "      <td>31</td>\n",
       "      <td>72</td>\n",
       "      <td>0</td>\n",
       "      <td>19</td>\n",
       "      <td>0</td>\n",
       "      <td>0.0</td>\n",
       "      <td>0.0</td>\n",
       "      <td>202</td>\n",
       "    </tr>\n",
       "    <tr>\n",
       "      <th>4</th>\n",
       "      <td>57</td>\n",
       "      <td>0</td>\n",
       "      <td>1</td>\n",
       "      <td>1</td>\n",
       "      <td>0</td>\n",
       "      <td>7</td>\n",
       "      <td>53</td>\n",
       "      <td>1492</td>\n",
       "      <td>826</td>\n",
       "      <td>2398</td>\n",
       "      <td>...</td>\n",
       "      <td>80</td>\n",
       "      <td>0</td>\n",
       "      <td>31</td>\n",
       "      <td>72</td>\n",
       "      <td>0</td>\n",
       "      <td>19</td>\n",
       "      <td>0</td>\n",
       "      <td>0.0</td>\n",
       "      <td>0.0</td>\n",
       "      <td>659</td>\n",
       "    </tr>\n",
       "    <tr>\n",
       "      <th>...</th>\n",
       "      <td>...</td>\n",
       "      <td>...</td>\n",
       "      <td>...</td>\n",
       "      <td>...</td>\n",
       "      <td>...</td>\n",
       "      <td>...</td>\n",
       "      <td>...</td>\n",
       "      <td>...</td>\n",
       "      <td>...</td>\n",
       "      <td>...</td>\n",
       "      <td>...</td>\n",
       "      <td>...</td>\n",
       "      <td>...</td>\n",
       "      <td>...</td>\n",
       "      <td>...</td>\n",
       "      <td>...</td>\n",
       "      <td>...</td>\n",
       "      <td>...</td>\n",
       "      <td>...</td>\n",
       "      <td>...</td>\n",
       "      <td>...</td>\n",
       "    </tr>\n",
       "    <tr>\n",
       "      <th>34156</th>\n",
       "      <td>14</td>\n",
       "      <td>10</td>\n",
       "      <td>21</td>\n",
       "      <td>0</td>\n",
       "      <td>1</td>\n",
       "      <td>6</td>\n",
       "      <td>874</td>\n",
       "      <td>1089</td>\n",
       "      <td>172</td>\n",
       "      <td>393</td>\n",
       "      <td>...</td>\n",
       "      <td>34</td>\n",
       "      <td>0</td>\n",
       "      <td>-1</td>\n",
       "      <td>72</td>\n",
       "      <td>0</td>\n",
       "      <td>19</td>\n",
       "      <td>0</td>\n",
       "      <td>0.0</td>\n",
       "      <td>0.0</td>\n",
       "      <td>80</td>\n",
       "    </tr>\n",
       "    <tr>\n",
       "      <th>34157</th>\n",
       "      <td>14</td>\n",
       "      <td>10</td>\n",
       "      <td>21</td>\n",
       "      <td>0</td>\n",
       "      <td>1</td>\n",
       "      <td>6</td>\n",
       "      <td>874</td>\n",
       "      <td>1089</td>\n",
       "      <td>172</td>\n",
       "      <td>393</td>\n",
       "      <td>...</td>\n",
       "      <td>16</td>\n",
       "      <td>0</td>\n",
       "      <td>37</td>\n",
       "      <td>72</td>\n",
       "      <td>3</td>\n",
       "      <td>18</td>\n",
       "      <td>0</td>\n",
       "      <td>0.0</td>\n",
       "      <td>0.0</td>\n",
       "      <td>2</td>\n",
       "    </tr>\n",
       "    <tr>\n",
       "      <th>34158</th>\n",
       "      <td>7</td>\n",
       "      <td>7</td>\n",
       "      <td>9</td>\n",
       "      <td>0</td>\n",
       "      <td>1</td>\n",
       "      <td>5</td>\n",
       "      <td>659</td>\n",
       "      <td>3111</td>\n",
       "      <td>0</td>\n",
       "      <td>1538</td>\n",
       "      <td>...</td>\n",
       "      <td>21</td>\n",
       "      <td>0</td>\n",
       "      <td>7</td>\n",
       "      <td>72</td>\n",
       "      <td>3</td>\n",
       "      <td>19</td>\n",
       "      <td>0</td>\n",
       "      <td>0.0</td>\n",
       "      <td>0.0</td>\n",
       "      <td>40</td>\n",
       "    </tr>\n",
       "    <tr>\n",
       "      <th>34159</th>\n",
       "      <td>7</td>\n",
       "      <td>7</td>\n",
       "      <td>9</td>\n",
       "      <td>0</td>\n",
       "      <td>1</td>\n",
       "      <td>5</td>\n",
       "      <td>659</td>\n",
       "      <td>3111</td>\n",
       "      <td>0</td>\n",
       "      <td>1538</td>\n",
       "      <td>...</td>\n",
       "      <td>50</td>\n",
       "      <td>2</td>\n",
       "      <td>7</td>\n",
       "      <td>72</td>\n",
       "      <td>3</td>\n",
       "      <td>5</td>\n",
       "      <td>0</td>\n",
       "      <td>0.0</td>\n",
       "      <td>0.0</td>\n",
       "      <td>0</td>\n",
       "    </tr>\n",
       "    <tr>\n",
       "      <th>34160</th>\n",
       "      <td>7</td>\n",
       "      <td>7</td>\n",
       "      <td>9</td>\n",
       "      <td>0</td>\n",
       "      <td>1</td>\n",
       "      <td>5</td>\n",
       "      <td>659</td>\n",
       "      <td>3111</td>\n",
       "      <td>0</td>\n",
       "      <td>1538</td>\n",
       "      <td>...</td>\n",
       "      <td>52</td>\n",
       "      <td>0</td>\n",
       "      <td>7</td>\n",
       "      <td>72</td>\n",
       "      <td>0</td>\n",
       "      <td>22</td>\n",
       "      <td>0</td>\n",
       "      <td>0.0</td>\n",
       "      <td>0.0</td>\n",
       "      <td>453</td>\n",
       "    </tr>\n",
       "  </tbody>\n",
       "</table>\n",
       "<p>60234 rows × 29 columns</p>\n",
       "</div>"
      ],
      "text/plain": [
       "       UpravnaEnotaStoritve  DatumPN  UraPN  VNaselju  Lokacija  \\\n",
       "0                        29        1     20         0         1   \n",
       "1                        43        0     12         1         0   \n",
       "2                        43        0     12         1         0   \n",
       "3                        57        0      1         1         0   \n",
       "4                        57        0      1         1         0   \n",
       "...                     ...      ...    ...       ...       ...   \n",
       "34156                    14       10     21         0         1   \n",
       "34157                    14       10     21         0         1   \n",
       "34158                     7        7      9         0         1   \n",
       "34159                     7        7      9         0         1   \n",
       "34160                     7        7      9         0         1   \n",
       "\n",
       "       VrstaCesteNaselja  SifraCesteNaselja  TekstCesteNaselja  \\\n",
       "0                      6               1465               1607   \n",
       "1                      9                207               2194   \n",
       "2                      9                207               2194   \n",
       "3                      7                 53               1492   \n",
       "4                      7                 53               1492   \n",
       "...                  ...                ...                ...   \n",
       "34156                  6                874               1089   \n",
       "34157                  6                874               1089   \n",
       "34158                  5                659               3111   \n",
       "34159                  5                659               3111   \n",
       "34160                  5                659               3111   \n",
       "\n",
       "       SifraOdsekaUlice  TekstOdsekaUlice  ...  Starost  Spol  \\\n",
       "0                    35              2093  ...       26     2   \n",
       "1                   979              1711  ...       32     0   \n",
       "2                   979              1711  ...       59     0   \n",
       "3                   826              2398  ...       38     0   \n",
       "4                   826              2398  ...       80     0   \n",
       "...                 ...               ...  ...      ...   ...   \n",
       "34156               172               393  ...       34     0   \n",
       "34157               172               393  ...       16     0   \n",
       "34158                 0              1538  ...       21     0   \n",
       "34159                 0              1538  ...       50     2   \n",
       "34160                 0              1538  ...       52     0   \n",
       "\n",
       "       UEStalnegaPrebivalisca  Drzavljanstvo  PoskodbaUdelezenca  \\\n",
       "0                          33             72                   0   \n",
       "1                          19             72                   0   \n",
       "2                          48             72                   3   \n",
       "3                          31             72                   0   \n",
       "4                          31             72                   0   \n",
       "...                       ...            ...                 ...   \n",
       "34156                      -1             72                   0   \n",
       "34157                      37             72                   3   \n",
       "34158                       7             72                   3   \n",
       "34159                       7             72                   3   \n",
       "34160                       7             72                   0   \n",
       "\n",
       "       VrstaUdelezenca  UporabaVarnostnegaPasu  VrednostAlkotesta  \\\n",
       "0                   19                       2                0.0   \n",
       "1                   19                       0                0.0   \n",
       "2                    3                       2                0.0   \n",
       "3                   19                       0                0.0   \n",
       "4                   19                       0                0.0   \n",
       "...                ...                     ...                ...   \n",
       "34156               19                       0                0.0   \n",
       "34157               18                       0                0.0   \n",
       "34158               19                       0                0.0   \n",
       "34159                5                       0                0.0   \n",
       "34160               22                       0                0.0   \n",
       "\n",
       "       VrednostStrokovnegaPregleda  VoznStazM  \n",
       "0                              0.0        101  \n",
       "1                              0.0        153  \n",
       "2                              0.0          0  \n",
       "3                              0.0        202  \n",
       "4                              0.0        659  \n",
       "...                            ...        ...  \n",
       "34156                          0.0         80  \n",
       "34157                          0.0          2  \n",
       "34158                          0.0         40  \n",
       "34159                          0.0          0  \n",
       "34160                          0.0        453  \n",
       "\n",
       "[60234 rows x 29 columns]"
      ]
     },
     "execution_count": 444,
     "metadata": {},
     "output_type": "execute_result"
    }
   ],
   "source": [
    "data"
   ]
  },
  {
   "cell_type": "code",
   "execution_count": 445,
   "id": "65e40057",
   "metadata": {},
   "outputs": [],
   "source": [
    "\n",
    "labels=data[\"PoskodbaUdelezenca\"].to_numpy()\n",
    "data.pop(\"PoskodbaUdelezenca\")\n",
    "normalized_df=(data-data.mean())/data.std()\n",
    "x=normalized_df.to_numpy()\n"
   ]
  },
  {
   "cell_type": "code",
   "execution_count": 446,
   "id": "d5060ac9",
   "metadata": {},
   "outputs": [],
   "source": [
    "r = relieff.Relief(n_features=5) \n",
    "\n",
    "my_transformed_matrix = r.fit_transform(x,labels)"
   ]
  },
  {
   "cell_type": "code",
   "execution_count": 447,
   "id": "311c01da",
   "metadata": {},
   "outputs": [
    {
     "name": "stdout",
     "output_type": "stream",
     "text": [
      "('UraPN', 0.5980423608408653)\n",
      "('Starost', 0.5704416095336394)\n",
      "('DatumPN', 0.5365671364032469)\n",
      "('TekstOdsekaUlice', 0.4610591625621623)\n",
      "('TipNesrece', 0.4511954687874754)\n",
      "('UEStalnegaPrebivalisca', 0.4196184091828592)\n",
      "('VoznStazM', 0.3933407482241727)\n",
      "('VzrokNesrece', 0.38780116753341043)\n",
      "('StanjePrometa', 0.3764163560019634)\n",
      "('UpravnaEnotaStoritve', 0.36661187510858056)\n",
      "('TekstCesteNaselja', 0.3612024769731794)\n",
      "('Povzrocitelj', 0.33664813599949384)\n",
      "('OpisKraja', 0.33373786011983364)\n",
      "('VrstaUdelezenca', 0.2256261914506991)\n",
      "('VremenskeOkoliscine', 0.22348226121194192)\n",
      "('UporabaVarnostnegaPasu', 0.20821521834152018)\n",
      "('StacionazaDogodka', 0.20286675964236067)\n",
      "('VrstaVozisca', 0.19406226645257513)\n",
      "('SifraOdsekaUlice', 0.17056455384245137)\n",
      "('SifraCesteNaselja', 0.16289023799371807)\n",
      "('Spol', 0.12909028380812962)\n",
      "('Drzavljanstvo', 0.1273557012099442)\n",
      "('StanjeVozisca', 0.09981890384593388)\n",
      "('VrstaCesteNaselja', 0.0865410886053)\n",
      "('VrednostAlkotesta', 0.03243913429069899)\n",
      "('VNaselju', 0.021700667895712646)\n",
      "('VrednostStrokovnegaPregleda', 0.0011291851924178076)\n",
      "('Lokacija', 0.0)\n"
     ]
    }
   ],
   "source": [
    "atributeScore = r.w_\n",
    "atributeSorted=[]\n",
    "for i in range(28):\n",
    "    atributeSorted.append((data.columns[i],atributeScore[i]))\n",
    "#     print((data.columns[i],atributeScore[i]))\n",
    "    \n",
    "atributeSorted.sort(key=lambda tup: tup[1],reverse=True)\n",
    "for i in range(28):\n",
    "    print(atributeSorted[i])"
   ]
  },
  {
   "cell_type": "markdown",
   "id": "bda84271",
   "metadata": {},
   "source": [
    "Z zgornjimi rezultati lahko štejemo vpliv nekega atributa na poškodbo ampak nemoramo zgornje rezultate vzeti kot absolutno za to sem napisal še par funkcij ko naredi heatmap in tabel kjer se prikaže relacija med atributi v tabeli na podalgi pijavitev."
   ]
  },
  {
   "cell_type": "code",
   "execution_count": 501,
   "id": "403aa06d",
   "metadata": {},
   "outputs": [
    {
     "data": {
      "text/plain": [
       "0         0\n",
       "1         0\n",
       "2        29\n",
       "3        58\n",
       "4        26\n",
       "         ..\n",
       "34156     6\n",
       "34157     0\n",
       "34158     3\n",
       "34159     0\n",
       "34160    37\n",
       "Name: VozniskiStazVLetih, Length: 34161, dtype: int64"
      ]
     },
     "execution_count": 501,
     "metadata": {},
     "output_type": "execute_result"
    }
   ],
   "source": [
    "data20 = pd.read_csv('./Podatki/pn2020.csv', delimiter=';', encoding='mbcs', parse_dates=['DatumPN'] ,dayfirst=True)\n",
    "data19= pd.read_csv('./Podatki/pn2019.csv', delimiter=';', encoding='mbcs',  parse_dates=['DatumPN'] ,dayfirst=True)\n",
    "#odkomentiraj, če želiš še primerjat \n",
    "data18= pd.read_csv('./Podatki/pn2018.csv', delimiter=';', encoding='mbcs',  parse_dates=['DatumPN'] ,dayfirst=True)\n",
    "# data17= pd.read_csv('./Podatki/pn2017.csv', delimiter=';', encoding='mbcs',  parse_dates=['DatumPN'] ,dayfirst=True)\n",
    "# data16= pd.read_csv('./Podatki/pn2016.csv', delimiter=';', encoding='mbcs',  parse_dates=['DatumPN'] ,dayfirst=True)\n",
    "# data15= pd.read_csv('./Podatki/pn2015.csv', delimiter=';', encoding='mbcs',  parse_dates=['DatumPN'] ,dayfirst=True)\n",
    "# data14= pd.read_csv('./Podatki/pn2014.csv', delimiter=';', encoding='mbcs',  parse_dates=['DatumPN'] ,dayfirst=True)\n",
    "# data13= pd.read_csv('./Podatki/pn2013.csv', delimiter=';', encoding='mbcs',  parse_dates=['DatumPN'] ,dayfirst=True)\n",
    "# data12= pd.read_csv('./Podatki/pn2012.csv', delimiter=';', encoding='mbcs',  parse_dates=['DatumPN'] ,dayfirst=True)\n",
    "# data11= pd.read_csv('./Podatki/pn2011.csv', delimiter=';', encoding='mbcs',  parse_dates=['DatumPN'] ,dayfirst=True)\n",
    "# data10= pd.read_csv('./Podatki/pn2010.csv', delimiter=';', encoding='mbcs',  parse_dates=['DatumPN'] ,dayfirst=True)\n",
    "# data9= pd.read_csv('./Podatki/pn2009.csv', delimiter=';', encoding='mbcs',  parse_dates=['DatumPN'] ,dayfirst=True)\n",
    "#data = pd.concat([data20,data19,data18,data17,data16,data15,data14,data13,data12,data11,data10,data9])\n",
    "#data['DatumPN'] = pd.DatetimeIndex(data['DatumPN']).month\n",
    "data20['DatumPN'] = pd.DatetimeIndex(data20['DatumPN']).month\n",
    "data19['DatumPN'] = pd.DatetimeIndex(data19['DatumPN']).month\n",
    "data18['DatumPN'] = pd.DatetimeIndex(data18['DatumPN']).month\n",
    "data20['UraPN']=data20['UraPN'].astype(\"string\")\n",
    "data20['UraPN']=data20.UraPN.str.split(\".\").str[0].astype('int')\n",
    "data19['UraPN']=data19['UraPN'].astype(\"string\")\n",
    "data19['UraPN']=data19.UraPN.str.split(\".\").str[0].astype('int')\n",
    "# data17['DatumPN'] = pd.DatetimeIndex(data17['DatumPN']).month\n",
    "data['UraPN']=data['UraPN'].astype(\"string\")\n",
    "data['UraPN']=data.UraPN.str.split(\".\").str[0].astype('int')\n",
    "data['VrednostAlkotesta']=data['VrednostAlkotesta'].astype(\"string\")\n",
    "data['VrednostAlkotesta']=data['VrednostAlkotesta'].str.replace(',','.')\n",
    "data['VrednostAlkotesta']=data['VrednostAlkotesta'].astype(float)\n",
    "data19[\"VoznStazM\"] = data19['VozniskiStazVLetih'] * 12 + data19['VozniskiStazVMesecih']\n",
    "data19.pop('VozniskiStazVMesecih')\n",
    "data19.pop('VozniskiStazVLetih')"
   ]
  },
  {
   "cell_type": "code",
   "execution_count": 502,
   "id": "3605c4ed",
   "metadata": {},
   "outputs": [],
   "source": [
    "def makeTableOfOccurences(col1,col2,df):\n",
    "    out = df[col1].to_frame(col1).join(df[col2]).assign(value=1)\n",
    "    out = out.pivot_table('value', col1, col2, aggfunc='count', fill_value=0)\n",
    "    out = out.assign(Count=lambda x: x.sum(axis=1))\n",
    "    return out"
   ]
  },
  {
   "cell_type": "code",
   "execution_count": 503,
   "id": "7bf78a09",
   "metadata": {},
   "outputs": [],
   "source": [
    "def makeHeatMapFromRow(rowIndex,table):\n",
    "    fig, ax = plt.subplots(figsize=(14,8)) \n",
    "\n",
    "\n",
    "    im = ax.imshow(tabelaRelacij.iloc[[rowIndex]], origin='upper', aspect='auto', interpolation='None')\n",
    "\n",
    "    fig.colorbar(im, ax=ax, label=\"opis barvne lestvice\")\n",
    "    \n",
    "    ax.set_title(\"Graf relacij \")\n",
    "    \n",
    "def makeHeatMapBetween(StartRowIndex,EndRowIndex,table):\n",
    "    fig, ax = plt.subplots(figsize=(14,8)) \n",
    "\n",
    "    rows_between = table.iloc[int(StartRowIndex):int(EndRowIndex)]\n",
    "    im = ax.imshow(rows_between, origin='upper', aspect='auto', interpolation='None')\n",
    "\n",
    "    fig.colorbar(im, ax=ax, label=\"opis barvne lestvice\")\n",
    "    \n",
    "    ax.set_title(\"Graf relacij \")\n",
    "    "
   ]
  },
  {
   "cell_type": "code",
   "execution_count": 549,
   "id": "7fb3d3c3",
   "metadata": {},
   "outputs": [
    {
     "data": {
      "text/plain": [
       "Text(0, 0.5, 'Ura nesreče')"
      ]
     },
     "execution_count": 549,
     "metadata": {},
     "output_type": "execute_result"
    },
    {
     "data": {
      "image/png": "[encoded data removed]",
      "text/plain": [
       "<Figure size 432x288 with 2 Axes>"
      ]
     },
     "metadata": {
      "needs_background": "light"
     },
     "output_type": "display_data"
    }
   ],
   "source": [
    "tabelaRelacij=makeTableOfOccurences(\"PoskodbaUdelezenca\",\"UraPN\",data19)\n",
    "fig, ax = plt.subplots() \n",
    "\n",
    "tabelaRelacij.pop(\"Count\")\n",
    "im = ax.imshow(tabelaRelacij, origin='upper', aspect='auto', interpolation='None')\n",
    "\n",
    "fig.colorbar(im, ax=ax, label=\"opis barvne lestvice\")\n",
    "ax.set_title(\"Graf Ura prometne nesreče in stopnja poškodbe udeležencev\")\n",
    "ax.set_xlabel(\"Poskodba udelezenca\")\n",
    "ax.set_ylabel(\"Ura nesreče\")"
   ]
  },
  {
   "cell_type": "code",
   "execution_count": 550,
   "id": "6fc71ab7",
   "metadata": {},
   "outputs": [
    {
     "data": {
      "text/plain": [
       "Text(0, 0.5, 'starost udeleženca')"
      ]
     },
     "execution_count": 550,
     "metadata": {},
     "output_type": "execute_result"
    },
    {
     "data": {
      "image/png": "[encoded data removed]",
      "text/plain": [
       "<Figure size 432x288 with 2 Axes>"
      ]
     },
     "metadata": {
      "needs_background": "light"
     },
     "output_type": "display_data"
    }
   ],
   "source": [
    "tabelaRelacij=makeTableOfOccurences(\"PoskodbaUdelezenca\",\"Starost\",data19)\n",
    "tabelaRelacij.pop(\"Count\")\n",
    "#pregled vizualni pregled nad vsemi atributi\n",
    "fig, ax = plt.subplots() \n",
    "\n",
    "\n",
    "im = ax.imshow(tabelaRelacij, origin='upper', aspect='auto', interpolation='None')\n",
    "\n",
    "fig.colorbar(im, ax=ax, label=\"opis barvne lestvice\")\n",
    "ax.set_title(\"Graf starost udeležencov in stopnja poškodbe udeležencev\")\n",
    "ax.set_xlabel(\"Poskodba udelezenca\")\n",
    "ax.set_ylabel(\"starost udeleženca\")"
   ]
  },
  {
   "cell_type": "code",
   "execution_count": 545,
   "id": "ac48b7b0",
   "metadata": {},
   "outputs": [
    {
     "data": {
      "text/plain": [
       "Text(0.5, 1.0, 'Graf Ura prometne nesreče in stopnja poškodbe udeležencev')"
      ]
     },
     "execution_count": 545,
     "metadata": {},
     "output_type": "execute_result"
    },
    {
     "data": {
      "image/png": "[encoded data removed]",
      "text/plain": [
       "<Figure size 432x288 with 2 Axes>"
      ]
     },
     "metadata": {
      "needs_background": "light"
     },
     "output_type": "display_data"
    }
   ],
   "source": [
    "#ta graf je neuporaben\n",
    "tabelaRelacij=makeTableOfOccurences(\"PoskodbaUdelezenca\",\"TekstOdsekaUlice\",data19)\n",
    "tabelaRelacij.pop(\"Count\")\n",
    "fig, ax = plt.subplots() \n",
    "\n",
    "im = ax.imshow(tabelaRelacij, origin='upper', aspect='auto', interpolation='None')\n",
    "\n",
    "fig.colorbar(im, ax=ax, label=\"opis barvne lestvice\")\n",
    "ax.set_title(\"Graf Ura prometne nesreče in stopnja poškodbe udeležencev\")"
   ]
  },
  {
   "cell_type": "code",
   "execution_count": 551,
   "id": "41caee77",
   "metadata": {},
   "outputs": [
    {
     "data": {
      "text/plain": [
       "Text(0, 0.5, 'starost udeleženca')"
      ]
     },
     "execution_count": 551,
     "metadata": {},
     "output_type": "execute_result"
    },
    {
     "data": {
      "image/png": "[encoded data removed]",
      "text/plain": [
       "<Figure size 432x288 with 2 Axes>"
      ]
     },
     "metadata": {
      "needs_background": "light"
     },
     "output_type": "display_data"
    }
   ],
   "source": [
    "tabelaRelacij=makeTableOfOccurences(\"VoznStazM\",\"Starost\",data19)\n",
    "tabelaRelacij.pop(\"Count\")\n",
    "fig, ax = plt.subplots() \n",
    "\n",
    "im = ax.imshow(tabelaRelacij, origin='upper', aspect='auto', interpolation='None')\n",
    "\n",
    "fig.colorbar(im, ax=ax, label=\"opis barvne lestvice\")\n",
    "ax.set_title(\"Graf izkušnja in starost udeležencev\")\n",
    "ax.set_xlabel(\"staž udelezenca\")\n",
    "ax.set_ylabel(\"starost udeleženca\")"
   ]
  },
  {
   "cell_type": "code",
   "execution_count": 552,
   "id": "a0ad56dd",
   "metadata": {},
   "outputs": [
    {
     "data": {
      "text/plain": [
       "UporabaVarnostnegaPasu\n",
       "DA         27070\n",
       "NE          3032\n",
       "NEZNANO     3975\n",
       "Name: Count, dtype: int64"
      ]
     },
     "execution_count": 552,
     "metadata": {},
     "output_type": "execute_result"
    }
   ],
   "source": [
    "tabelaRelacij=makeTableOfOccurences(\"UporabaVarnostnegaPasu\",\"PoskodbaUdelezenca\",data19)\n",
    "tabelaRelacij.pop(\"Count\")"
   ]
  },
  {
   "cell_type": "code",
   "execution_count": 553,
   "id": "3914e00b",
   "metadata": {},
   "outputs": [
    {
     "data": {
      "text/html": [
       "<div>\n",
       "<style scoped>\n",
       "    .dataframe tbody tr th:only-of-type {\n",
       "        vertical-align: middle;\n",
       "    }\n",
       "\n",
       "    .dataframe tbody tr th {\n",
       "        vertical-align: top;\n",
       "    }\n",
       "\n",
       "    .dataframe thead th {\n",
       "        text-align: right;\n",
       "    }\n",
       "</style>\n",
       "<table border=\"1\" class=\"dataframe\">\n",
       "  <thead>\n",
       "    <tr style=\"text-align: right;\">\n",
       "      <th>PoskodbaUdelezenca</th>\n",
       "      <th>BREZ POŠKODBE</th>\n",
       "      <th>BREZ POŠKODBE-UZ</th>\n",
       "      <th>HUDA TELESNA POŠKODBA</th>\n",
       "      <th>LAŽJA TELESNA POŠKODBA</th>\n",
       "      <th>SMRT</th>\n",
       "    </tr>\n",
       "    <tr>\n",
       "      <th>UporabaVarnostnegaPasu</th>\n",
       "      <th></th>\n",
       "      <th></th>\n",
       "      <th></th>\n",
       "      <th></th>\n",
       "      <th></th>\n",
       "    </tr>\n",
       "  </thead>\n",
       "  <tbody>\n",
       "    <tr>\n",
       "      <th>DA</th>\n",
       "      <td>21060</td>\n",
       "      <td>205</td>\n",
       "      <td>489</td>\n",
       "      <td>5260</td>\n",
       "      <td>56</td>\n",
       "    </tr>\n",
       "    <tr>\n",
       "      <th>NE</th>\n",
       "      <td>1745</td>\n",
       "      <td>68</td>\n",
       "      <td>251</td>\n",
       "      <td>932</td>\n",
       "      <td>36</td>\n",
       "    </tr>\n",
       "    <tr>\n",
       "      <th>NEZNANO</th>\n",
       "      <td>3166</td>\n",
       "      <td>88</td>\n",
       "      <td>80</td>\n",
       "      <td>631</td>\n",
       "      <td>10</td>\n",
       "    </tr>\n",
       "  </tbody>\n",
       "</table>\n",
       "</div>"
      ],
      "text/plain": [
       "PoskodbaUdelezenca      BREZ POŠKODBE  BREZ POŠKODBE-UZ  \\\n",
       "UporabaVarnostnegaPasu                                    \n",
       "DA                              21060               205   \n",
       "NE                               1745                68   \n",
       "NEZNANO                          3166                88   \n",
       "\n",
       "PoskodbaUdelezenca      HUDA TELESNA POŠKODBA  LAŽJA TELESNA POŠKODBA  SMRT  \n",
       "UporabaVarnostnegaPasu                                                       \n",
       "DA                                        489                    5260    56  \n",
       "NE                                        251                     932    36  \n",
       "NEZNANO                                    80                     631    10  "
      ]
     },
     "execution_count": 553,
     "metadata": {},
     "output_type": "execute_result"
    }
   ],
   "source": [
    "tabelaRelacij"
   ]
  },
  {
   "cell_type": "code",
   "execution_count": 541,
   "id": "10df6fe0",
   "metadata": {},
   "outputs": [
    {
     "data": {
      "text/plain": [
       "Text(0.5, 1.0, 'Graf udeleženci, ki niso so uporabljali varnostni pas in njihove poškodbe')"
      ]
     },
     "execution_count": 541,
     "metadata": {},
     "output_type": "execute_result"
    },
    {
     "data": {
      "image/png": "[encoded data removed]",
      "text/plain": [
       "<Figure size 1008x576 with 2 Axes>"
      ]
     },
     "metadata": {
      "needs_background": "light"
     },
     "output_type": "display_data"
    },
    {
     "data": {
      "image/png": "[encoded data removed]",
      "text/plain": [
       "<Figure size 1008x576 with 2 Axes>"
      ]
     },
     "metadata": {
      "needs_background": "light"
     },
     "output_type": "display_data"
    }
   ],
   "source": [
    "fig, ax = plt.subplots(figsize=(14,8)) \n",
    "\n",
    "\n",
    "im = ax.imshow(tabelaRelacij.iloc[[0],0] ,igin='upper', aspect='auto', interpolation='None')\n",
    "\n",
    "fig.colorbar(im, ax=ax, label=\"opis barvne lestvice\")\n",
    "    \n",
    "ax.set_title(\"Graf udeleženci, ki so uporabljali varnostni pas in njihove poškodbe\")\n",
    "\n",
    "ax.set_xlabel(\"Poskodba udelezenca\")\n",
    "\n",
    "fig, ax = plt.subplots(figsize=(14,8)) \n",
    "\n",
    "im = ax.imshow(tabelaRelacij.iloc[[1]], origin='upper', aspect='auto', interpolation='None')\n",
    "\n",
    "fig.colorbar(im, ax=ax, label=\"opis barvne lestvice\")\n",
    "    \n",
    "ax.set_title(\"Graf udeleženci, ki niso so uporabljali varnostni pas in njihove poškodbe\")"
   ]
  }
 ],
 "metadata": {
  "kernelspec": {
   "display_name": "Python 3 (ipykernel)",
   "language": "python",
   "name": "python3"
  },
  "language_info": {
   "codemirror_mode": {
    "name": "ipython",
    "version": 3
   },
   "file_extension": ".py",
   "mimetype": "text/x-python",
   "name": "python",
   "nbconvert_exporter": "python",
   "pygments_lexer": "ipython3",
   "version": "3.9.7"
  },
  "latex_envs": {
   "LaTeX_envs_menu_present": true,
   "autoclose": false,
   "autocomplete": true,
   "bibliofile": "biblio.bib",
   "cite_by": "apalike",
   "current_citInitial": 1,
   "eqLabelWithNumbers": true,
   "eqNumInitial": 1,
   "hotkeys": {
    "equation": "Ctrl-E",
    "itemize": "Ctrl-I"
   },
   "labels_anchors": false,
   "latex_user_defs": false,
   "report_style_numbering": false,
   "user_envs_cfg": false
  },
  "nbTranslate": {
   "displayLangs": [
    "*"
   ],
   "hotkey": "alt-t",
   "langInMainMenu": true,
   "sourceLang": "en",
   "targetLang": "fr",
   "useGoogleTranslate": true
  }
 },
 "nbformat": 4,
 "nbformat_minor": 5
}
