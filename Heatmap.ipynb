{
 "cells": [
  {
   "cell_type": "code",
   "execution_count": 1,
   "id": "4038ce55",
   "metadata": {},
   "outputs": [],
   "source": [
    "import pandas as pd\n",
    "import matplotlib.pyplot as plt\n",
    "import numpy as np"
   ]
  },
  {
   "cell_type": "code",
   "execution_count": 2,
   "id": "c4afae5d",
   "metadata": {},
   "outputs": [],
   "source": [
    "data = pd.read_csv('./Podatki/pn2019.csv', delimiter=';', encoding='mbcs')"
   ]
  },
  {
   "cell_type": "markdown",
   "id": "d7dfd1bd",
   "metadata": {},
   "source": [
    "Koordiante so v 20. in 21. stoplcu"
   ]
  },
  {
   "cell_type": "code",
   "execution_count": 3,
   "id": "3b18f2c0",
   "metadata": {},
   "outputs": [],
   "source": [
    "x = data.iloc[:, 20:21]\n",
    "y = data.iloc[:, 21:22]\n",
    "xy = data.iloc[:, 20:22]"
   ]
  },
  {
   "cell_type": "code",
   "execution_count": 18,
   "id": "7d695e7d",
   "metadata": {},
   "outputs": [],
   "source": [
    "def narisi_graf(array_gostote):\n",
    "    # kreiranje podatkov\n",
    "    array_gostote = np.array(array_gostote)\n",
    "    X, Y, GP = array_gostote.T\n",
    "    #X = x.reshape(50, 50)\n",
    "    #Y = y.reshape(50, 50)\n",
    "    #GP = gp.reshape(50, 50)\n",
    "    #X += 5\n",
    "    #Y += 5\n",
    "\n",
    "    fig, ax = plt.subplots(figsize=(8, 6))\n",
    "    heatmap = ax.pcolormesh(X, Y, GP, shading='auto')       #  heat map\n",
    "    fig.colorbar(heatmap, ax=ax, label=\"opis barvne lestvice\")\n",
    "    ax.set_title(\"Toplotna karta nesreč - Ljubljana\")                                          # naslov grafa\n",
    "    ax.set_xlabel(\"$x$ os\")\n",
    "    ax.set_ylabel(\"$y$ os\")"
   ]
  },
  {
   "cell_type": "code",
   "execution_count": 20,
   "id": "14649ea9",
   "metadata": {},
   "outputs": [],
   "source": [
    "x = x[x.GeoKoordinataX != 0] # Odstrani pomakljive podatke\n",
    "y = y[y.GeoKoordinataY != 0]\n",
    "xy = xy[xy.GeoKoordinataY != 0]\n",
    "xy = xy[xy.GeoKoordinataX != 0]\n",
    "xmin, ymin = xy.min()\n",
    "xmax, ymax = xy.max()\n",
    "xmin, xmax, ymin, ymax = 90000, 110000, 450000, 480000  # Ljubljana"
   ]
  },
  {
   "cell_type": "code",
   "execution_count": 21,
   "id": "37eee7de",
   "metadata": {},
   "outputs": [],
   "source": [
    "def gostota(x0, x1, y0, y1, xy):\n",
    "    go = len(xy[(xy.GeoKoordinataX < x1) & (xy.GeoKoordinataX >= x0) & (xy.GeoKoordinataY < y1) & (xy.GeoKoordinataY >= y0)])\n",
    "    return go\n",
    "\n",
    "resX = 500\n",
    "resY = 500\n",
    "\n",
    "arr_gostota = []\n",
    "for cx in range(xmin // resX * resX, xmax + resX, resX):\n",
    "    vrstica = []\n",
    "    for cy in range(ymin // resY * resY, ymax + resY, resY):\n",
    "        go = gostota(cx, cx + resX, cy, cy + resY, xy)\n",
    "        vrstica.append((cx, cy, go))\n",
    "    arr_gostota.append(vrstica)"
   ]
  },
  {
   "cell_type": "code",
   "execution_count": 22,
   "id": "3018748f",
   "metadata": {},
   "outputs": [
    {
     "data": {
      "image/png": "[encoded data removed]",
      "text/plain": [
       "<Figure size 576x432 with 2 Axes>"
      ]
     },
     "metadata": {
      "needs_background": "light"
     },
     "output_type": "display_data"
    }
   ],
   "source": [
    "narisi_graf(arr_gostota)\n",
    "\n"
   ]
  }
 ],
 "metadata": {
  "kernelspec": {
   "display_name": "Python 3 (ipykernel)",
   "language": "python",
   "name": "python3"
  },
  "language_info": {
   "codemirror_mode": {
    "name": "ipython",
    "version": 3
   },
   "file_extension": ".py",
   "mimetype": "text/x-python",
   "name": "python",
   "nbconvert_exporter": "python",
   "pygments_lexer": "ipython3",
   "version": "3.8.3"
  }
 },
 "nbformat": 4,
 "nbformat_minor": 5
}
