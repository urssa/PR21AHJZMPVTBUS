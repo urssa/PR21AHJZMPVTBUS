{
 "cells": [
  {
   "cell_type": "markdown",
   "id": "be69a38b",
   "metadata": {},
   "source": [
    "seminarska PR - prometne nesreče"
   ]
  },
  {
   "cell_type": "markdown",
   "id": "b4f004e1",
   "metadata": {},
   "source": [
    "analiza okoliščin prometnih nesreč - 2019"
   ]
  },
  {
   "cell_type": "markdown",
   "id": "f61f110c",
   "metadata": {},
   "source": [
    "Branje podatkov iz pn2019.csv, ter karatek prikaz delajvnikov kjer so prometne nesreče najbolj pogoste"
   ]
  },
  {
   "cell_type": "code",
   "execution_count": 4,
   "id": "9bd8542f",
   "metadata": {},
   "outputs": [],
   "source": [
    "import numpy as np\n",
    "import numpy.lib.recfunctions as rfn\n",
    "from numpy import genfromtxt\n",
    "import matplotlib.pyplot as plt\n",
    "from csv import DictReader\n",
    "from datetime import datetime\n",
    "import operator"
   ]
  },
  {
   "cell_type": "code",
   "execution_count": 5,
   "id": "003d7adf",
   "metadata": {},
   "outputs": [],
   "source": [
    "#Branje podatkov za okoliščine nesreč\n",
    "#Za druge vprašanje raje naredi novo branje, ker bo manjši glavobol.\n",
    "#Plus podatkov je preveč, da bi se mi dalo od vsakega poiskati string v datoteki, če se ti, da 32 copy and paste delat.\n",
    "#si dobrotošel da poskusiš aja pa še manj pregledno je če je vseh 32 podatkov\n",
    "\n",
    "dataOkoliscine=None\n",
    "dataOkoliscineGroup=None\n",
    "reader = DictReader(open('podatki/pn2019.csv', 'rt'),delimiter=';')\n",
    "\n",
    "vrsteLokacijNesrec=dict()\n",
    "vrsteCestNesrec=dict()\n",
    "vrstaOdsekaCestNesrec=dict()\n",
    "stanjaPrometaNesrec=dict()\n",
    "stanjeVoziscaNesrec=dict()\n",
    "vrsteVoziscaNesrec=dict()\n",
    "casPoUrah=dict()\n",
    "casPoMesec=dict()\n",
    "letniCasNesrece={\"poletje\":0,\"zima\":0,\"pomald\":0,\"jesen\":0}\n",
    "dnevniCasNesrece={\"jutro\":0,\"dopoldne\":0,\"popoldne\":0,\"vecer\":0}\n",
    "\n",
    "letniCas=None\n",
    "dnevniCas=None\n",
    "zeObiskaneNesrece=set()\n"
   ]
  },
  {
   "cell_type": "code",
   "execution_count": 6,
   "id": "f5a0e4b6",
   "metadata": {},
   "outputs": [],
   "source": [
    "\n",
    "for row in reader:\n",
    "    \n",
    "    datum=row[\"DatumPN\"]\n",
    "    ura=row[\"UraPN\"]\n",
    "    lokacija=row[\"Lokacija\"]\n",
    "    vrstaCeste=row[\"VrstaCesteNaselja\"]\n",
    "    vrstaOdsekaCeste=row[\"OpisKraja\"]\n",
    "    stanjeP=row[\"StanjePrometa\"]\n",
    "    stanjeV=row[\"StanjeVozisca\"]\n",
    "    vrstaVozisca=row[\"VrstaVozisca\"]\n",
    "    \n",
    "    \n",
    "    #sestavljeni atribut za letni čas\n",
    "    if int(datum.split(\".\")[1])==12 or int(datum.split(\".\")[1])==1 or int(datum.split(\".\")[1])==2:\n",
    "        letniCasNesrece[\"zima\"]+=1\n",
    "    elif int(datum.split(\".\")[1])==3 or int(datum.split(\".\")[1])==4 or int(datum.split(\".\")[1])==5:\n",
    "        letniCasNesrece[\"pomald\"]+=1\n",
    "    elif int(datum.split(\".\")[1])==6 or int(datum.split(\".\")[1])==7 or int(datum.split(\".\")[1])==8:\n",
    "        letniCasNesrece[\"poletje\"]+=1\n",
    "    else:\n",
    "         letniCasNesrece[\"jesen\"]+=1\n",
    "            \n",
    "    #sestavljen atribut za čas v dnevu\n",
    "    if int(ura.split(\".\")[0])<6 and int(datum.split(\".\")[0])>=0:\n",
    "        dnevniCasNesrece[\"jutro\"]+=1\n",
    "    elif int(ura.split(\".\")[0])<12 and int(datum.split(\".\")[0])>=6:\n",
    "        dnevniCasNesrece[\"dopoldne\"]+=1\n",
    "    elif int(ura.split(\".\")[0])<18 and int(datum.split(\".\")[0])>=12:\n",
    "        dnevniCasNesrece[\"popoldne\"]+=1\n",
    "    else:\n",
    "         dnevniCasNesrece[\"vecer\"]+=1\n",
    "    \n",
    "    #vse vrste in njihove pojavitve se hranijo v spodnjih dict\n",
    "    if lokacija not in vrsteLokacijNesrec.keys():\n",
    "        vrsteLokacijNesrec[lokacija]=1\n",
    "    else:\n",
    "        vrsteLokacijNesrec[lokacija]+=1\n",
    "    \n",
    "    if vrstaCeste not in vrsteCestNesrec.keys():\n",
    "        vrsteCestNesrec[vrstaCeste]=1\n",
    "    else:\n",
    "        vrsteCestNesrec[vrstaCeste]+=1\n",
    "        \n",
    "    if vrstaOdsekaCeste not in vrstaOdsekaCestNesrec.keys():\n",
    "        vrstaOdsekaCestNesrec[vrstaOdsekaCeste]=1\n",
    "    else:\n",
    "        vrstaOdsekaCestNesrec[vrstaOdsekaCeste]+=1\n",
    "        \n",
    "    if stanjeP not in stanjaPrometaNesrec.keys():\n",
    "        stanjaPrometaNesrec[stanjeP]=1\n",
    "    else:\n",
    "        stanjaPrometaNesrec[stanjeP]+=1\n",
    "      \n",
    "    if stanjeV not in stanjeVoziscaNesrec.keys():\n",
    "        stanjeVoziscaNesrec[stanjeV]=1\n",
    "    else:\n",
    "        stanjeVoziscaNesrec[stanjeV]+=1\n",
    "    \n",
    "    if vrstaVozisca not in vrsteVoziscaNesrec.keys():\n",
    "        stanjeVoziscaNesrec[vrstaVozisca]=1\n",
    "    else:\n",
    "        stanjeVoziscaNesrec[vrstaVozisca]+=1\n",
    "        \n",
    "    if(int(ura.split(\".\")[0]) not in casPoUrah.keys()):\n",
    "        casPoUrah[int(ura.split(\".\")[0])]=1\n",
    "    else:\n",
    "        casPoUrah[int(ura.split(\".\")[0])]+=1\n",
    "        \n",
    "    if(int(datum.split(\".\")[1]) not in casPoMesec.keys()):\n",
    "        casPoMesec[int(datum.split(\".\")[1])]=1\n",
    "    else:\n",
    "        casPoMesec[int(datum.split(\".\")[1])]+=1\n",
    "    \n",
    "    if(dataOkoliscine is None):\n",
    "        dataOkoliscine = np.array([lokacija,ura, datum,vrstaCeste,vrstaCeste,stanjeP,stanjeV,vrstaVozisca])\n",
    "    elif row[\"ZaporednaStevilkaPN\"] not in zeObiskaneNesrece:\n",
    "        zeObiskaneNesrece.add(row[\"ZaporednaStevilkaPN\"])\n",
    "        dataOkoliscine = np.vstack([dataOkoliscine, [lokacija,ura, datum,vrstaCeste,vrstaCeste,stanjeP,stanjeV,vrstaVozisca]])"
   ]
  },
  {
   "cell_type": "code",
   "execution_count": 5,
   "id": "ddd7418d",
   "metadata": {},
   "outputs": [
    {
     "data": {
      "text/plain": [
       "array([['NASELJE', '13.15', '08.01.2019', ..., 'GOST', 'MOKRO',\n",
       "        'ZGLAJEN ASFALT / BETON'],\n",
       "       ['NASELJE', '13.15', '08.01.2019', ..., 'GOST', 'MOKRO',\n",
       "        'ZGLAJEN ASFALT / BETON'],\n",
       "       ['NASELJE', '05.55', '02.01.2019', ..., 'REDEK', 'SPOLZKO',\n",
       "        'HRAPAV  ASFALT / BETON'],\n",
       "       ...,\n",
       "       ['NASELJE', '09.50', '21.11.2019', ..., 'GOST', 'MOKRO',\n",
       "        'ZGLAJEN ASFALT / BETON'],\n",
       "       ['NASELJE', '21.10', '16.11.2019', ..., 'NEZNANO', 'MOKRO',\n",
       "        'ZGLAJEN ASFALT / BETON'],\n",
       "       ['NASELJE', '09.00', '25.08.2019', ..., 'NORMALEN', 'SUHO',\n",
       "        'ZGLAJEN ASFALT / BETON']], dtype='<U29')"
      ]
     },
     "execution_count": 5,
     "metadata": {},
     "output_type": "execute_result"
    }
   ],
   "source": [
    "dataOkoliscine"
   ]
  },
  {
   "cell_type": "code",
   "execution_count": 6,
   "id": "cd444e6b",
   "metadata": {},
   "outputs": [
    {
     "data": {
      "text/plain": [
       "{'MOKRO': 7616,\n",
       " 'ZGLAJEN ASFALT / BETON': 1,\n",
       " 'SPOLZKO': 496,\n",
       " 'HRAPAV  ASFALT / BETON': 1,\n",
       " 'SUHO': 25369,\n",
       " 'SNEŽENO - NEPLUŽENO': 138,\n",
       " 'POLEDENELO - NEPOSIPANO': 37,\n",
       " 'MAKADAM': 1,\n",
       " 'OSTALO': 1,\n",
       " 'POLEDENELO - POSIPANO': 40,\n",
       " 'NERAVEN ASFALT / BETON': 1,\n",
       " 'SNEŽENO - PLUŽENO': 74,\n",
       " 'BLATNO': 9}"
      ]
     },
     "execution_count": 6,
     "metadata": {},
     "output_type": "execute_result"
    }
   ],
   "source": [
    "stanjeVoziscaNesrec"
   ]
  },
  {
   "cell_type": "code",
   "execution_count": 1,
   "id": "5c19c7a0",
   "metadata": {},
   "outputs": [
    {
     "ename": "NameError",
     "evalue": "name 'stanjeVoziscaNesrec' is not defined",
     "output_type": "error",
     "traceback": [
      "\u001b[1;31m---------------------------------------------------------------------------\u001b[0m",
      "\u001b[1;31mNameError\u001b[0m                                 Traceback (most recent call last)",
      "\u001b[1;32m~\\AppData\\Local\\Temp/ipykernel_9176/3882797551.py\u001b[0m in \u001b[0;36m<module>\u001b[1;34m\u001b[0m\n\u001b[0;32m      3\u001b[0m \u001b[1;33m\u001b[0m\u001b[0m\n\u001b[0;32m      4\u001b[0m \u001b[1;31m#sorteranje dict-a za stanje ceste\u001b[0m\u001b[1;33m\u001b[0m\u001b[1;33m\u001b[0m\u001b[0m\n\u001b[1;32m----> 5\u001b[1;33m \u001b[0mprint\u001b[0m\u001b[1;33m(\u001b[0m\u001b[1;34m\"Stanje cest:\"\u001b[0m\u001b[1;33m,\u001b[0m\u001b[1;33m{\u001b[0m\u001b[0mk\u001b[0m\u001b[1;33m:\u001b[0m \u001b[0mv\u001b[0m \u001b[1;32mfor\u001b[0m \u001b[0mk\u001b[0m\u001b[1;33m,\u001b[0m \u001b[0mv\u001b[0m \u001b[1;32min\u001b[0m \u001b[0msorted\u001b[0m\u001b[1;33m(\u001b[0m\u001b[0mstanjeVoziscaNesrec\u001b[0m\u001b[1;33m.\u001b[0m\u001b[0mitems\u001b[0m\u001b[1;33m(\u001b[0m\u001b[1;33m)\u001b[0m\u001b[1;33m,\u001b[0m \u001b[0mkey\u001b[0m\u001b[1;33m=\u001b[0m\u001b[1;32mlambda\u001b[0m \u001b[0mitem\u001b[0m\u001b[1;33m:\u001b[0m \u001b[0mitem\u001b[0m\u001b[1;33m[\u001b[0m\u001b[1;36m1\u001b[0m\u001b[1;33m]\u001b[0m\u001b[1;33m,\u001b[0m\u001b[0mreverse\u001b[0m\u001b[1;33m=\u001b[0m\u001b[1;32mTrue\u001b[0m\u001b[1;33m)\u001b[0m\u001b[1;33m}\u001b[0m\u001b[1;33m)\u001b[0m\u001b[1;33m\u001b[0m\u001b[1;33m\u001b[0m\u001b[0m\n\u001b[0m\u001b[0;32m      6\u001b[0m \u001b[1;33m\u001b[0m\u001b[0m\n\u001b[0;32m      7\u001b[0m \u001b[1;31m#sorteranje dict-a za vrsto ceste\u001b[0m\u001b[1;33m\u001b[0m\u001b[1;33m\u001b[0m\u001b[0m\n",
      "\u001b[1;31mNameError\u001b[0m: name 'stanjeVoziscaNesrec' is not defined"
     ]
    }
   ],
   "source": [
    "#Top 3 za vsako kategorijo okoliščin razen mesec in čas\n",
    "#p.s izpis si lohk narediš sam\n",
    "\n",
    "#sorteranje dict-a za stanje ceste\n",
    "print(\"Stanje cest:\",{k: v for k, v in sorted(stanjeVoziscaNesrec.items(), key=lambda item: item[1],reverse=True)})\n",
    "\n",
    "#sorteranje dict-a za vrsto ceste\n",
    "print(\"vrsto ceste:\",{k: v for k, v in sorted(vrsteCestNesrec.items(), key=lambda item: item[1],reverse=True)})\n",
    "\n",
    "#sorteranje dict-a za lokacijo samo dve vrsti naselje ali cesta tako, da je samo top 2\n",
    "print(\"vrsta lokacije:\",{k: v for k, v in sorted(vrsteLokacijNesrec.items(), key=lambda item: item[1],reverse=True)})\n",
    "\n",
    "#sorteranje dict-a za vrsta odseka\n",
    "print(\"vrsta odseka:\",{k: v for k, v in sorted(vrstaOdsekaCestNesrec.items(), key=lambda item: item[1],reverse=True)})\n",
    "\n",
    "#sorteranje dict-a za vrsta odseka\n",
    "print(\"gostost prometa:\",{k: v for k, v in sorted(stanjaPrometaNesrec.items(), key=lambda item: item[1],reverse=True)})\n",
    "\n",
    "#sorteranje dict-a za letni čas\n",
    "print(\"letni časi:\",{k: v for k, v in sorted(letniCasNesrece.items(), key=lambda item: item[1],reverse=True)})\n",
    "\n",
    "#sorteranje dict-a za čas v dnevu\n",
    "print(\"skozi dan:\",{k: v for k, v in sorted(dnevniCasNesrece.items(), key=lambda item: item[1],reverse=True)})\n",
    "\n",
    "\n"
   ]
  },
  {
   "cell_type": "code",
   "execution_count": 13,
   "id": "6daff891",
   "metadata": {},
   "outputs": [
    {
     "data": {
      "text/plain": [
       "<BarContainer object of 24 artists>"
      ]
     },
     "execution_count": 13,
     "metadata": {},
     "output_type": "execute_result"
    },
    {
     "data": {
      "image/png": "[encoded data removed]",
      "text/plain": [
       "<Figure size 432x288 with 1 Axes>"
      ]
     },
     "metadata": {
      "needs_background": "light"
     },
     "output_type": "display_data"
    }
   ],
   "source": [
    "#Izris porazdelitve po času v dnevu\n",
    "sorted_casPoUrah = sorted(casPoUrah.items(), key=operator.itemgetter(0))\n",
    "y_axis=[]\n",
    "x_axis=[]\n",
    "for par in sorted_casPoUrah:\n",
    "    y_axis.append(par[1])\n",
    "    x_axis.append(par[0])\n",
    "\n",
    "plt.bar(x_axis, y_axis, color='c')"
   ]
  },
  {
   "cell_type": "code",
   "execution_count": 14,
   "id": "943a5982",
   "metadata": {},
   "outputs": [
    {
     "data": {
      "text/plain": [
       "<BarContainer object of 12 artists>"
      ]
     },
     "execution_count": 14,
     "metadata": {},
     "output_type": "execute_result"
    },
    {
     "data": {
      "image/png": "[encoded data removed]",
      "text/plain": [
       "<Figure size 432x288 with 1 Axes>"
      ]
     },
     "metadata": {
      "needs_background": "light"
     },
     "output_type": "display_data"
    }
   ],
   "source": [
    "sorted_casPoMesec = sorted(casPoMesec.items(), key=operator.itemgetter(0))\n",
    "y_axis=[]\n",
    "x_axis=[]\n",
    "for par in sorted_casPoMesec:\n",
    "    y_axis.append(par[1])\n",
    "    x_axis.append(par[0])\n",
    "\n",
    "plt.bar(x_axis, y_axis, color='c')"
   ]
  },
  {
   "cell_type": "markdown",
   "id": "f08a79c8",
   "metadata": {},
   "source": [
    "Pozneje bo sledilo še gručenje"
   ]
  },
  {
   "cell_type": "markdown",
   "id": "2ae0456f",
   "metadata": {},
   "source": [
    "Osnovna analiza za 2020"
   ]
  },
  {
   "cell_type": "code",
   "execution_count": 36,
   "id": "153a3fef",
   "metadata": {},
   "outputs": [],
   "source": [
    "dataOkoliscine=None\n",
    "dataOkoliscineGroup=None\n",
    "reader = DictReader(open('podatki/pn2020.csv', 'rt'),delimiter=';')\n",
    "\n",
    "vrsteLokacijNesrec2=dict()\n",
    "vrsteCestNesrec2=dict()\n",
    "vrstaOdsekaCestNesrec2=dict()\n",
    "stanjaPrometaNesrec2=dict()\n",
    "stanjeVoziscaNesrec2=dict()\n",
    "vrsteVoziscaNesrec2=dict()\n",
    "casPoUrah2=dict()\n",
    "casPoMesec2=dict()\n",
    "letniCasNesrece2={\"poletje\":0,\"zima\":0,\"pomald\":0,\"jesen\":0}\n",
    "dnevniCasNesrece2={\"jutro\":0,\"dopoldne\":0,\"popoldne\":0,\"vecer\":0}\n",
    "\n",
    "letniCas=None\n",
    "dnevniCas=None\n",
    "zeObiskaneNesrece=set()"
   ]
  },
  {
   "cell_type": "code",
   "execution_count": 37,
   "id": "dacde6e3",
   "metadata": {},
   "outputs": [],
   "source": [
    "for row in reader:\n",
    "    \n",
    "    datum=row[\"DatumPN\"]\n",
    "    ura=row[\"UraPN\"]\n",
    "    lokacija=row[\"Lokacija\"]\n",
    "    vrstaCeste=row[\"VrstaCesteNaselja\"]\n",
    "    vrstaOdsekaCeste=row[\"OpisKraja\"]\n",
    "    stanjeP=row[\"StanjePrometa\"]\n",
    "    stanjeV=row[\"StanjeVozisca\"]\n",
    "    vrstaVozisca=row[\"VrstaVozisca\"]\n",
    "    \n",
    "    \n",
    "    #sestavljeni atribut za letni čas\n",
    "    if int(datum.split(\".\")[1])==12 or int(datum.split(\".\")[1])==1 or int(datum.split(\".\")[1])==2:\n",
    "        letniCasNesrece2[\"zima\"]+=1\n",
    "    elif int(datum.split(\".\")[1])==3 or int(datum.split(\".\")[1])==4 or int(datum.split(\".\")[1])==5:\n",
    "        letniCasNesrece2[\"pomald\"]+=1\n",
    "    elif int(datum.split(\".\")[1])==6 or int(datum.split(\".\")[1])==7 or int(datum.split(\".\")[1])==8:\n",
    "        letniCasNesrece2[\"poletje\"]+=1\n",
    "    else:\n",
    "         letniCasNesrece2[\"jesen\"]+=1\n",
    "            \n",
    "    #sestavljen atribut za čas v dnevu\n",
    "    if int(ura.split(\".\")[0])<6 and int(datum.split(\".\")[0])>=0:\n",
    "        dnevniCasNesrece2[\"jutro\"]+=1\n",
    "    elif int(ura.split(\".\")[0])<12 and int(datum.split(\".\")[0])>=6:\n",
    "        dnevniCasNesrece2[\"dopoldne\"]+=1\n",
    "    elif int(ura.split(\".\")[0])<18 and int(datum.split(\".\")[0])>=12:\n",
    "        dnevniCasNesrece2[\"popoldne\"]+=1\n",
    "    else:\n",
    "         dnevniCasNesrece2[\"vecer\"]+=1\n",
    "    \n",
    "    #vse vrste in njihove pojavitve se hranijo v spodnjih dict\n",
    "    if lokacija not in vrsteLokacijNesrec2.keys():\n",
    "        vrsteLokacijNesrec2[lokacija]=1\n",
    "    else:\n",
    "        vrsteLokacijNesrec2[lokacija]+=1\n",
    "    \n",
    "    if vrstaCeste not in vrsteCestNesrec2.keys():\n",
    "        vrsteCestNesrec2[vrstaCeste]=1\n",
    "    else:\n",
    "        vrsteCestNesrec2[vrstaCeste]+=1\n",
    "        \n",
    "    if vrstaOdsekaCeste not in vrstaOdsekaCestNesrec2.keys():\n",
    "        vrstaOdsekaCestNesrec2[vrstaOdsekaCeste]=1\n",
    "    else:\n",
    "        vrstaOdsekaCestNesrec2[vrstaOdsekaCeste]+=1\n",
    "        \n",
    "    if stanjeP not in stanjaPrometaNesrec2.keys():\n",
    "        stanjaPrometaNesrec2[stanjeP]=1\n",
    "    else:\n",
    "        stanjaPrometaNesrec2[stanjeP]+=1\n",
    "      \n",
    "    if stanjeV not in stanjeVoziscaNesrec2.keys():\n",
    "        stanjeVoziscaNesrec2[stanjeV]=1\n",
    "    else:\n",
    "        stanjeVoziscaNesrec2[stanjeV]+=1\n",
    "    \n",
    "    if vrstaVozisca not in vrsteVoziscaNesrec2.keys():\n",
    "        stanjeVoziscaNesrec2[vrstaVozisca]=1\n",
    "    else:\n",
    "        stanjeVoziscaNesrec2[vrstaVozisca]+=1\n",
    "        \n",
    "    if(int(ura.split(\".\")[0]) not in casPoUrah2.keys()):\n",
    "        casPoUrah2[int(ura.split(\".\")[0])]=1\n",
    "    else:\n",
    "        casPoUrah2[int(ura.split(\".\")[0])]+=1\n",
    "        \n",
    "    if(int(datum.split(\".\")[1]) not in casPoMesec2.keys()):\n",
    "        casPoMesec2[int(datum.split(\".\")[1])]=1\n",
    "    else:\n",
    "        casPoMesec2[int(datum.split(\".\")[1])]+=1\n",
    "    \n",
    "    if(dataOkoliscine is None):\n",
    "        dataOkoliscine = np.array([lokacija,ura, datum,vrstaCeste,vrstaCeste,stanjeP,stanjeV,vrstaVozisca])\n",
    "    elif row[\"ZaporednaStevilkaPN\"] not in zeObiskaneNesrece:\n",
    "        zeObiskaneNesrece.add(row[\"ZaporednaStevilkaPN\"])\n",
    "        dataOkoliscine = np.vstack([dataOkoliscine, [lokacija,ura, datum,vrstaCeste,vrstaCeste,stanjeP,stanjeV,vrstaVozisca]])"
   ]
  },
  {
   "cell_type": "code",
   "execution_count": 38,
   "id": "d3588651",
   "metadata": {},
   "outputs": [
    {
     "name": "stdout",
     "output_type": "stream",
     "text": [
      "Stanje cest: {'SUHO': 19726, 'MOKRO': 5243, 'SPOLZKO': 482, 'SNEŽENO - NEPLUŽENO': 90, 'POLEDENELO - NEPOSIPANO': 59, 'SNEŽENO - PLUŽENO': 58, 'POLEDENELO - POSIPANO': 14, 'BLATNO': 11, 'HRAPAV  ASFALT / BETON': 1, 'ZGLAJEN ASFALT / BETON': 1, 'MAKADAM': 1, 'OSTALO': 1, 'NERAVEN ASFALT / BETON': 1}\n",
      "vrsto ceste: {'NASELJE Z ULIČNIM SISTEMOM': 13098, 'NASELJE BREZ ULIČNEGA SISTEMA': 4121, 'AVTOCESTA': 2346, 'REGIONALNA CESTA II. REDA': 1304, 'REGIONALNA CESTA': 1123, 'GLAVNA CESTA II. REDA': 1059, 'GLAVNA CESTA': 917, 'REGIONALNA CESTA III. REDA': 884, 'LOKALNA CESTA': 785, 'HITRA CESTA': 330, 'TURISTIČNA CESTA': 106}\n",
      "vrsta lokacije: {'NASELJE': 17219, 'CESTA': 8854}\n",
      "vrsta odseka: {'CESTA': 19145, 'PARKIRNI PROSTOR': 3176, 'KRIŽIŠČE': 2795, 'KROŽNO KRIŽIŠČE': 422, 'KOLESAR. ST. ALI PLOČNIK': 231, 'PREHOD ZA PEŠCE': 193, 'PREDOR': 56, 'ŽELEZNIŠKI PREHOD': 30, 'AVTOBUSNA POSTAJA': 22, 'NARAVOVARSTVENO OBMOČJE': 3}\n",
      "gostost prometa: {'NORMALEN': 14651, 'REDEK': 6325, 'GOST': 3348, 'NEZNANO': 1643, 'ZASTOJI': 106}\n",
      "letni časi: {'poletje': 8059, 'zima': 6550, 'jesen': 6550, 'pomald': 4914}\n",
      "skozi dan: {'vecer': 10846, 'popoldne': 7235, 'dopoldne': 6656, 'jutro': 1336}\n"
     ]
    }
   ],
   "source": [
    "print(\"Stanje cest:\",{k: v for k, v in sorted(stanjeVoziscaNesrec2.items(), key=lambda item: item[1],reverse=True)})\n",
    "\n",
    "#sorteranje dict-a za vrsto ceste\n",
    "print(\"vrsto ceste:\",{k: v for k, v in sorted(vrsteCestNesrec2.items(), key=lambda item: item[1],reverse=True)})\n",
    "\n",
    "#sorteranje dict-a za lokacijo samo dve vrsti naselje ali cesta tako, da je samo top 2\n",
    "print(\"vrsta lokacije:\",{k: v for k, v in sorted(vrsteLokacijNesrec2.items(), key=lambda item: item[1],reverse=True)})\n",
    "\n",
    "#sorteranje dict-a za vrsta odseka\n",
    "print(\"vrsta odseka:\",{k: v for k, v in sorted(vrstaOdsekaCestNesrec2.items(), key=lambda item: item[1],reverse=True)})\n",
    "\n",
    "#sorteranje dict-a za vrsta odseka\n",
    "print(\"gostost prometa:\",{k: v for k, v in sorted(stanjaPrometaNesrec2.items(), key=lambda item: item[1],reverse=True)})\n",
    "\n",
    "#sorteranje dict-a za letni čas\n",
    "print(\"letni časi:\",{k: v for k, v in sorted(letniCasNesrece2.items(), key=lambda item: item[1],reverse=True)})\n",
    "\n",
    "#sorteranje dict-a za čas v dnevu\n",
    "print(\"skozi dan:\",{k: v for k, v in sorted(dnevniCasNesrece2.items(), key=lambda item: item[1],reverse=True)})"
   ]
  },
  {
   "cell_type": "code",
   "execution_count": 58,
   "id": "823c7321",
   "metadata": {},
   "outputs": [
    {
     "data": {
      "text/plain": [
       "Text(0, 0.5, 'količina nesreč')"
      ]
     },
     "execution_count": 58,
     "metadata": {},
     "output_type": "execute_result"
    },
    {
     "data": {
      "image/png": "[encoded data removed]",
      "text/plain": [
       "<Figure size 432x288 with 1 Axes>"
      ]
     },
     "metadata": {
      "needs_background": "light"
     },
     "output_type": "display_data"
    }
   ],
   "source": [
    "sorted_casPoUrah = sorted(casPoUrah.items(), key=operator.itemgetter(0))\n",
    "y_axis=[]\n",
    "x_axis=[]\n",
    "for par in sorted_casPoUrah:\n",
    "    y_axis.append(par[1])\n",
    "    x_axis.append(par[0])\n",
    "\n",
    "plt.bar(x_axis, y_axis, color='c')\n",
    "plt.xlabel(\"Ura\")\n",
    "plt.ylabel(\"količina nesreč\")"
   ]
  },
  {
   "cell_type": "code",
   "execution_count": 44,
   "id": "14f9f0b1",
   "metadata": {},
   "outputs": [
    {
     "data": {
      "text/plain": [
       "Text(0, 0.5, 'količina nesreč')"
      ]
     },
     "execution_count": 44,
     "metadata": {},
     "output_type": "execute_result"
    },
    {
     "data": {
      "image/png": "[encoded data removed]",
      "text/plain": [
       "<Figure size 432x288 with 1 Axes>"
      ]
     },
     "metadata": {
      "needs_background": "light"
     },
     "output_type": "display_data"
    }
   ],
   "source": [
    "sorted_casPoMesec = sorted(casPoMesec.items(), key=operator.itemgetter(0))\n",
    "y_axis=[]\n",
    "x_axis=[]\n",
    "for par in sorted_casPoMesec:\n",
    "    y_axis.append(par[1])\n",
    "    x_axis.append(par[0])\n",
    "\n",
    "plt.bar(x_axis, y_axis, color='c')\n",
    "plt.xlabel(\"stevilka - Meseca\")\n",
    "plt.ylabel(\"količina nesreč\")"
   ]
  },
  {
   "cell_type": "markdown",
   "id": "8b9d3ac7",
   "metadata": {},
   "source": [
    "Vrste vontikov alnaliza - 2019"
   ]
  },
  {
   "cell_type": "code",
   "execution_count": 333,
   "id": "08998172",
   "metadata": {},
   "outputs": [],
   "source": [
    "dataVoznik=None\n",
    "reader = DictReader(open('podatki/pn2019.csv', 'rt'),delimiter=';')\n",
    "\n",
    "zeObiskaneNesrece1=set()\n",
    "vozikImelPas1=dict()\n",
    "turisti=dict()\n",
    "drzavljanstvo1=dict()\n",
    "dopustnObdobje={\"DOMACIN\":0,\"TUJEC\":0}\n",
    "spola1=dict()\n",
    "poskodbe1=dict()\n",
    "stopnjeZnanjaVoznika=list()\n",
    "alkoVrednosti=list()\n",
    "starostiPovzrociteljev=list()"
   ]
  },
  {
   "cell_type": "code",
   "execution_count": 334,
   "id": "5ed45caf",
   "metadata": {},
   "outputs": [],
   "source": [
    "for row in reader:\n",
    "    starost=row[\"Starost\"]\n",
    "    Spol=row[\"Spol\"]\n",
    "    Drzavljanstvo=row[\"Drzavljanstvo\"]\n",
    "    PoskodbaUdelezenca=row[\"PoskodbaUdelezenca\"]\n",
    "    VrstaUdelezenca=row[\"VrstaUdelezenca\"]\n",
    "    UporabaVarnostnegaPasu=row[\"UporabaVarnostnegaPasu\"]\n",
    "    VozniskiStazVLetih=row[\"VozniskiStazVLetih\"]\n",
    "    VozniskiStazVMesecih=row[\"VozniskiStazVMesecih\"]\n",
    "    VrednostAlkotesta=row[\"VrednostAlkotesta\"]\n",
    "    VrednostStrokovnegaPregleda=row[\"VrednostStrokovnegaPregleda\"]\n",
    "    jePovzrocitel=row[\"Povzrocitelj\"]\n",
    "    datum=row[\"DatumPN\"]\n",
    "    \n",
    "    if jePovzrocitel.strip()==\"POVZROČITELJ\":\n",
    "        if Spol not in spola1.keys():\n",
    "            spola1[Spol]=1\n",
    "        else:\n",
    "            spola1[Spol]+=1\n",
    "            \n",
    "        if Drzavljanstvo not in drzavljanstvo1.keys():\n",
    "            drzavljanstvo1[Drzavljanstvo]=1\n",
    "        else:\n",
    "            drzavljanstvo1[Drzavljanstvo]+=1\n",
    "        \n",
    "        if Drzavljanstvo not in drzavljanstvo1.keys():\n",
    "            drzavljanstvo1[Drzavljanstvo]=1\n",
    "        else:\n",
    "            drzavljanstvo1[Drzavljanstvo]+=1\n",
    "            \n",
    "        if Drzavljanstvo==\"SLOVENIJA\" and (int(datum.split(\".\")[1])<6 or int(datum.split(\".\")[1])>10):\n",
    "            dopustnObdobje[\"DOMACIN\"]+=1\n",
    "        elif (int(datum.split(\".\")[1])<6 or int(datum.split(\".\")[1])>10):\n",
    "            dopustnObdobje[\"TUJEC\"]+=1\n",
    "        \n",
    "        if int(starost)<=20 and float(VozniskiStazVLetih)!=0:\n",
    "            stopnjeZnanjaVoznika.append(float(VozniskiStazVLetih)+float(VozniskiStazVMesecih)*0.01)\n",
    "        elif float(VozniskiStazVLetih)!=0:\n",
    "            stopnjeZnanjaVoznika.append(float(VozniskiStazVLetih)+float(VozniskiStazVMesecih)*0.01)\n",
    "        \n",
    "        if int(starost)<=20:\n",
    "            alkoVrednosti.append(float(VrednostAlkotesta.replace(\",\",\".\")))\n",
    "\n",
    "        starostiPovzrociteljev.append(int(starost))\n",
    "        \n",
    "    if PoskodbaUdelezenca not in poskodbe1.keys() and PoskodbaUdelezenca!=\"\":\n",
    "        poskodbe1[PoskodbaUdelezenca]=1\n",
    "    elif PoskodbaUdelezenca!=\"\":\n",
    "        poskodbe1[PoskodbaUdelezenca]+=1\n",
    "        \n",
    "    \n",
    "    \n",
    "\n",
    "            \n",
    "        \n",
    "    if(dataVoznik is None):\n",
    "        dataVoznik = np.array([int(starost),Spol, Drzavljanstvo,PoskodbaUdelezenca,VrstaUdelezenca,\n",
    "                               UporabaVarnostnegaPasu,float(VozniskiStazVLetih)+float(VozniskiStazVMesecih)*0.01,\n",
    "                               float(VrednostAlkotesta.replace(\",\",\".\")),float(VrednostStrokovnegaPregleda.replace(\",\",\".\"))])\n",
    "    elif row[\"ZaporednaStevilkaPN\"] not in zeObiskaneNesrece:\n",
    "        zeObiskaneNesrece.add(row[\"ZaporednaStevilkaPN\"])\n",
    "        dataVoznik = np.vstack([dataVoznik, [starost,Spol, Drzavljanstvo,PoskodbaUdelezenca,VrstaUdelezenca,\n",
    "                               UporabaVarnostnegaPasu,float(VozniskiStazVLetih)+float(VozniskiStazVMesecih)*0.01,\n",
    "                               float(VrednostAlkotesta.replace(\",\",\".\")),float(VrednostStrokovnegaPregleda.replace(\",\",\".\"))]])"
   ]
  },
  {
   "cell_type": "code",
   "execution_count": 335,
   "id": "deec1f6d",
   "metadata": {},
   "outputs": [
    {
     "name": "stdout",
     "output_type": "stream",
     "text": [
      "Spol voznikov: {'MOŠKI': 11697, 'ŽENSKI': 4407}\n",
      "Drzavljanstvo: {'SLOVENIJA': 27062, 'BOSNA IN HERCEGOVINA': 1282, 'HRVAŠKA': 510, 'SRBIJA': 428, 'ITALIJA': 340, 'AVSTRIJA': 288, 'ROMUNIJA': 254, 'NEMČIJA': 250, 'KOSOVO': 220, 'SEVERNA MAKEDONIJA': 218, 'MADŽARSKA': 170, '': 166, 'BOLGARIJA': 132, 'UKRAJINA': 116, 'POLJSKA': 96, 'ČEŠKA REPUBLIKA': 90, 'SLOVAŠKA': 60, 'TURČIJA': 56, 'FRANCIJA': 50, 'RUSIJA': 42, 'NIZOZEMSKA': 42, 'VELIKA BRITANIJA': 32, 'ŠVICA': 26, 'ZDRUŽENE DRŽAVE AMERIKE': 24, 'MOLDAVIJA': 22, 'ALBANIJA': 18, 'BELGIJA': 18, 'KITAJSKA': 16, 'ŠPANIJA': 14, 'ČRNA GORA': 12, 'BELORUSIJA': 12, 'INDIJA': 10, 'IZRAEL': 10, 'ŠVEDSKA': 8, 'SIRIJA': 6, 'GRČIJA': 6, 'NEZNANO': 6, 'KANADA': 6, 'FINSKA': 6, 'AVSTRALIJA': 6, 'LATVIJA': 4, 'GRUZIJA': 4, 'SINGAPUR': 4, 'PAKISTAN': 4, 'ALŽIRIJA': 4, 'LITVA': 4, 'BRAZILIJA': 4, 'KAZAHSTAN': 4, 'MAROKO': 4, 'BANGLADEŠ': 2, 'TUNIZIJA': 2, 'NOVA ZELANDIJA': 2, 'JUŽNA AFRIKA': 2, 'OMAN': 2, 'PORTUGALSKA': 2, 'PERU': 2, 'ESTONIJA': 2, 'FILIPINI': 2, 'JUŽNA KOREJA': 2, 'IRAN': 2, 'CIPER': 2, 'IRSKA': 2, 'LUKSEMBURG': 2, 'GAMBIJA': 2, 'AZERBAJDŽAN': 2, 'MOZAMBIK': 2, 'NIGERIJA': 2, 'PALESTINA': 2, 'EGIPT': 2, 'DOMINIKANSKA REPUBLIKA': 2}\n",
      "Poskodbe: {'BREZ POŠKODBE': 25971, 'LAŽJA TELESNA POŠKODBA': 6823, 'HUDA TELESNA POŠKODBA': 820, 'BREZ POŠKODBE-UZ': 361, 'SMRT': 102}\n",
      "Ne Turisticni cas: {'DOMACIN': 7510, 'TUJEC': 1243}\n"
     ]
    }
   ],
   "source": [
    "#spol\n",
    "print(\"Spol voznikov:\",{k: v for k, v in sorted(spola1.items(), key=lambda item: item[1],reverse=True)})\n",
    "print(\"Drzavljanstvo:\",{k: v for k, v in sorted(drzavljanstvo1.items(), key=lambda item: item[1],reverse=True)})\n",
    "print(\"Poskodbe:\",{k: v for k, v in sorted(poskodbe1.items(), key=lambda item: item[1],reverse=True)})\n",
    "print(\"Ne Turisticni cas:\",{k: v for k, v in sorted(dopustnObdobje.items(), key=lambda item: item[1],reverse=True)})"
   ]
  },
  {
   "cell_type": "markdown",
   "id": "eb937a2a",
   "metadata": {},
   "source": [
    "Turisticni cas: {'DOMACIN': 6021, 'TUJEC': 1330}"
   ]
  },
  {
   "cell_type": "markdown",
   "id": "26e4a931",
   "metadata": {},
   "source": [
    "Ne Turisticni cas: {'DOMACIN': 7510, 'TUJEC': 1243}\n",
    "ni neke pretirane razlike"
   ]
  },
  {
   "cell_type": "code",
   "execution_count": 336,
   "id": "33e251df",
   "metadata": {},
   "outputs": [
    {
     "name": "stdout",
     "output_type": "stream",
     "text": [
      "Povprečna izkušnja voznika: 22.07283283741512\n"
     ]
    },
    {
     "data": {
      "text/plain": [
       "(array([2991., 2285., 2108., 1812., 1324., 1269.,  827.,  406.,   80.,\n",
       "           5.]),\n",
       " array([ 1.  ,  8.21, 15.42, 22.63, 29.84, 37.05, 44.26, 51.47, 58.68,\n",
       "        65.89, 73.1 ]),\n",
       " <BarContainer object of 10 artists>)"
      ]
     },
     "execution_count": 336,
     "metadata": {},
     "output_type": "execute_result"
    },
    {
     "data": {
      "image/png": "[encoded data removed]",
      "text/plain": [
       "<Figure size 432x288 with 1 Axes>"
      ]
     },
     "metadata": {
      "needs_background": "light"
     },
     "output_type": "display_data"
    }
   ],
   "source": [
    "import statistics\n",
    "print(\"Povprečna izkušnja voznika:\",statistics.mean(stopnjeZnanjaVoznika))\n",
    "plt.hist(stopnjeZnanjaVoznika)"
   ]
  },
  {
   "cell_type": "code",
   "execution_count": 337,
   "id": "bdcc3d5a",
   "metadata": {},
   "outputs": [
    {
     "name": "stdout",
     "output_type": "stream",
     "text": [
      "Povprečna količina alko testa: 0.017250193648334626\n"
     ]
    },
    {
     "data": {
      "text/plain": [
       "(array([1245.,    5.,    6.,    9.,    7.,    8.,    6.,    0.,    3.,\n",
       "           2.]),\n",
       " array([0.   , 0.103, 0.206, 0.309, 0.412, 0.515, 0.618, 0.721, 0.824,\n",
       "        0.927, 1.03 ]),\n",
       " <BarContainer object of 10 artists>)"
      ]
     },
     "execution_count": 337,
     "metadata": {},
     "output_type": "execute_result"
    },
    {
     "data": {
      "image/png": "[encoded data removed]",
      "text/plain": [
       "<Figure size 432x288 with 1 Axes>"
      ]
     },
     "metadata": {
      "needs_background": "light"
     },
     "output_type": "display_data"
    }
   ],
   "source": [
    "print(\"Povprečna količina alko testa:\",statistics.mean(alkoVrednosti))\n",
    "plt.hist(alkoVrednosti)"
   ]
  },
  {
   "cell_type": "code",
   "execution_count": 339,
   "id": "6a49e852",
   "metadata": {},
   "outputs": [
    {
     "name": "stdout",
     "output_type": "stream",
     "text": [
      "Povprečna starost: 43.90660705414804\n"
     ]
    },
    {
     "data": {
      "text/plain": [
       "(array([  42.,  558., 3367., 3059., 2591., 2538., 1947., 1282.,  647.,\n",
       "          73.]),\n",
       " array([-1. ,  8.8, 18.6, 28.4, 38.2, 48. , 57.8, 67.6, 77.4, 87.2, 97. ]),\n",
       " <BarContainer object of 10 artists>)"
      ]
     },
     "execution_count": 339,
     "metadata": {},
     "output_type": "execute_result"
    },
    {
     "data": {
      "image/png": "[encoded data removed]",
      "text/plain": [
       "<Figure size 432x288 with 1 Axes>"
      ]
     },
     "metadata": {
      "needs_background": "light"
     },
     "output_type": "display_data"
    }
   ],
   "source": [
    "print(\"Povprečna starost:\",statistics.mean(starostiPovzrociteljev))\n",
    "plt.hist(starostiPovzrociteljev)"
   ]
  },
  {
   "cell_type": "code",
   "execution_count": null,
   "id": "4b903738",
   "metadata": {},
   "outputs": [],
   "source": []
  }
 ],
 "metadata": {
  "kernelspec": {
   "display_name": "Python 3 (ipykernel)",
   "language": "python",
   "name": "python3"
  },
  "language_info": {
   "codemirror_mode": {
    "name": "ipython",
    "version": 3
   },
   "file_extension": ".py",
   "mimetype": "text/x-python",
   "name": "python",
   "nbconvert_exporter": "python",
   "pygments_lexer": "ipython3",
   "version": "3.9.7"
  },
  "latex_envs": {
   "LaTeX_envs_menu_present": true,
   "autoclose": false,
   "autocomplete": true,
   "bibliofile": "biblio.bib",
   "cite_by": "apalike",
   "current_citInitial": 1,
   "eqLabelWithNumbers": true,
   "eqNumInitial": 1,
   "hotkeys": {
    "equation": "Ctrl-E",
    "itemize": "Ctrl-I"
   },
   "labels_anchors": false,
   "latex_user_defs": false,
   "report_style_numbering": false,
   "user_envs_cfg": false
  },
  "nbTranslate": {
   "displayLangs": [
    "*"
   ],
   "hotkey": "alt-t",
   "langInMainMenu": true,
   "sourceLang": "en",
   "targetLang": "fr",
   "useGoogleTranslate": true
  }
 },
 "nbformat": 4,
 "nbformat_minor": 5
}
