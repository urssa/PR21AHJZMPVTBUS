{
 "cells": [
  {
   "cell_type": "code",
   "execution_count": 2,
   "id": "cefc3231",
   "metadata": {},
   "outputs": [],
   "source": [
    "import pandas as pd\n",
    "import matplotlib.pyplot as plt\n",
    "import numpy as np"
   ]
  },
  {
   "cell_type": "code",
   "execution_count": 3,
   "id": "e6423c81",
   "metadata": {},
   "outputs": [],
   "source": [
    "data = pd.read_csv('./Podatki/pn2019.csv', delimiter=';', encoding='mbcs')"
   ]
  },
  {
   "cell_type": "code",
   "execution_count": 4,
   "id": "5db10e1f",
   "metadata": {},
   "outputs": [],
   "source": [
    "upravne_enote=data.UpravnaEnotaStoritve.unique()\n",
    "upravne_enote = upravne_enote[:-1]"
   ]
  },
  {
   "cell_type": "code",
   "execution_count": 5,
   "id": "e8a4f5b9",
   "metadata": {},
   "outputs": [],
   "source": [
    "month=data.DatumPN.str.split(\".\").str[1].astype('int')\n",
    "data['month']=month"
   ]
  },
  {
   "cell_type": "code",
   "execution_count": 6,
   "id": "c421d830",
   "metadata": {},
   "outputs": [],
   "source": [
    "#data_by_month usebuje podatke razdeljene po mesecih od 1 - 12 \n",
    "data_by_month=[]\n",
    "for i in range(12):\n",
    "    data_by_month.append(data[data.month==i+1])"
   ]
  },
  {
   "cell_type": "code",
   "execution_count": 16,
   "id": "968b9e26",
   "metadata": {},
   "outputs": [],
   "source": [
    "regije=[\"obalno_kraška\",\"goriška\",\"gorenjska\",\"osrednjeslovenska\",\"primorsko_notranjska\",\"juhovzhodna\",\"zasavska\",\"savinjska\",\"posavska\",\"koroška\",\"podravska\",\"pomurska\"]\n",
    "regije_dict = dict()\n",
    "regije_dict['obalno_kraška']=['IZOLA','KOPER','PIRAN','SEŽANA'] \n",
    "regije_dict['goriška']=['AJDOVŠÈINA','IDRIJA','NOVA GORICA','TOLMIN']\n",
    "regije_dict['gorenjska']=['JESENICE','KRANJ','RADOVLJICA','TRŽIÈ','ŠKOFJA LOKA',]\n",
    "regije_dict['osrednjeslovenska']=['LJUBLJANA','DOMŽALE','GROSUPLJE','KAMNIK','LOGATEC','VRHNIKA']\n",
    "regije_dict['primorsko_notranjska']=['CERKNICA','ILIRSKA BISTRICA','POSTOJNA']\n",
    "regije_dict['juhovzhodna']=['ÈRNOMELJ','KOÈEVJE','METLIKA','NOVO MESTO','RIBNICA','TREBNJE']\n",
    "regije_dict['zasavska']=['HRASTNIK','TRBOVLJE','LITIJA','ZAGORJE OB SAVI']\n",
    "regije_dict['savinjska']=['CELJE','LAŠKO','MOZIRJE','SLOVENSKE KONJICE','ŠENTJUR PRI CELJU','ŠMARJE PRI JELŠAH','VELENJE','ŽALEC']\n",
    "regije_dict['posavska']=['BREŽICE','KRŠKO','SEVNICA']\n",
    "regije_dict['koroška']=['SLOVENJ GRADEC','DRAVOGRAD','RAVNE NA KOROŠKEM','RADLJE OB DRAVI']\n",
    "regije_dict['podravska']=['LENART','MARIBOR','ORMOŽ','PESNICA','PTUJ','RUŠE','SLOVENSKA BISTRICA',]\n",
    "regije_dict['pomurska']=['GORNJA RADGONA','LENDAVA','LJUTOMER','MURSKA SOBOTA',]"
   ]
  },
  {
   "cell_type": "code",
   "execution_count": 17,
   "id": "b049522b",
   "metadata": {},
   "outputs": [
    {
     "data": {
      "text/plain": [
       "{'obalno_kraška': ['IZOLA', 'KOPER', 'PIRAN', 'SEŽANA'],\n",
       " 'goriška': ['AJDOVŠÈINA', 'IDRIJA', 'NOVA GORICA', 'TOLMIN'],\n",
       " 'gorenjska': ['JESENICE', 'KRANJ', 'RADOVLJICA', 'TRŽIÈ', 'ŠKOFJA LOKA'],\n",
       " 'osrednjeslovenska': ['LJUBLJANA',\n",
       "  'DOMŽALE',\n",
       "  'GROSUPLJE',\n",
       "  'KAMNIK',\n",
       "  'LOGATEC',\n",
       "  'VRHNIKA'],\n",
       " 'primorsko_notranjska': ['CERKNICA', 'ILIRSKA BISTRICA', 'POSTOJNA'],\n",
       " 'juhovzhodna': ['ÈRNOMELJ',\n",
       "  'KOÈEVJE',\n",
       "  'METLIKA',\n",
       "  'NOVO MESTO',\n",
       "  'RIBNICA',\n",
       "  'TREBNJE'],\n",
       " 'zasavska': ['HRASTNIK', 'TRBOVLJE', 'LITIJA', 'ZAGORJE OB SAVI'],\n",
       " 'savinjska': ['CELJE',\n",
       "  'LAŠKO',\n",
       "  'MOZIRJE',\n",
       "  'SLOVENSKE KONJICE',\n",
       "  'ŠENTJUR PRI CELJU',\n",
       "  'ŠMARJE PRI JELŠAH',\n",
       "  'VELENJE',\n",
       "  'ŽALEC'],\n",
       " 'posavska': ['BREŽICE', 'KRŠKO', 'SEVNICA'],\n",
       " 'koroška': ['SLOVENJ GRADEC',\n",
       "  'DRAVOGRAD',\n",
       "  'RAVNE NA KOROŠKEM',\n",
       "  'RADLJE OB DRAVI'],\n",
       " 'podravska': ['LENART',\n",
       "  'MARIBOR',\n",
       "  'ORMOŽ',\n",
       "  'PESNICA',\n",
       "  'PTUJ',\n",
       "  'RUŠE',\n",
       "  'SLOVENSKA BISTRICA'],\n",
       " 'pomurska': ['GORNJA RADGONA', 'LENDAVA', 'LJUTOMER', 'MURSKA SOBOTA']}"
      ]
     },
     "execution_count": 17,
     "metadata": {},
     "output_type": "execute_result"
    }
   ],
   "source": [
    "regije_dict\n"
   ]
  }
 ],
 "metadata": {
  "kernelspec": {
   "display_name": "Python 3 (ipykernel)",
   "language": "python",
   "name": "python3"
  },
  "language_info": {
   "codemirror_mode": {
    "name": "ipython",
    "version": 3
   },
   "file_extension": ".py",
   "mimetype": "text/x-python",
   "name": "python",
   "nbconvert_exporter": "python",
   "pygments_lexer": "ipython3",
   "version": "3.9.7"
  },
  "varInspector": {
   "cols": {
    "lenName": 16,
    "lenType": 16,
    "lenVar": 40
   },
   "kernels_config": {
    "python": {
     "delete_cmd_postfix": "",
     "delete_cmd_prefix": "del ",
     "library": "var_list.py",
     "varRefreshCmd": "print(var_dic_list())"
    },
    "r": {
     "delete_cmd_postfix": ") ",
     "delete_cmd_prefix": "rm(",
     "library": "var_list.r",
     "varRefreshCmd": "cat(var_dic_list()) "
    }
   },
   "types_to_exclude": [
    "module",
    "function",
    "builtin_function_or_method",
    "instance",
    "_Feature"
   ],
   "window_display": false
  }
 },
 "nbformat": 4,
 "nbformat_minor": 5
}
